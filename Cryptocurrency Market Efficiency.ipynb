{
 "cells": [
  {
   "cell_type": "markdown",
   "metadata": {},
   "source": [
    "# Cryptocurrency Market Efficiency\n",
    "\n",
    "Este cuaderno está orientado a la documentación de los cálculos."
   ]
  },
  {
   "cell_type": "markdown",
   "metadata": {},
   "source": [
    "### Data Dictionary:"
   ]
  },
  {
   "cell_type": "markdown",
   "metadata": {},
   "source": [
    "* [Link al Github](https://github.com/coinmetrics/data)\n",
    "\n",
    "* [Link al diccionario](https://docs.coinmetrics.io/info/metrics)\n",
    "\n",
    "* AdrActCnt: The sum count of unique addresses that were active in the network (either as a destination or source of a ledger change) that day. All parties in a ledger change action (source and destination) are counted. Individual addresses are not double-counted if previously active.\n",
    "* AdrBal1in100KCnt: The sum count of unique addresses holding at least one in Xth of the current supply of native units as of the end of that day. Only native units are considered (e.g., an address with less than one ten-billionth ETH but with ERC-20 tokens would not be considered).\n",
    "* AdrBal1in100MCnt:The sum count of unique addresses holding at least one in Xth of the current supply of native units as of the end of that day. Only native units are considered (e.g., an address with less than one ten-billionth ETH but with ERC-20 tokens would not be considered).\n",
    "* AdrBal1in100MCnt: The sum count of unique addresses holding at least one in Xth of the current supply of native units as of the end of that day. Only native units are considered (e.g., an address with less than one ten-billionth ETH but with ERC-20 tokens would not be considered). \n",
    "* AdrBal1in10BCnt: The sum count of unique addresses holding at least one in Xth of the current supply of native units as of the end of that day. Only native units are considered (e.g., an address with less than one ten-billionth ETH but with ERC-20 tokens would not be considered).\n",
    "* AdrBal1in10KCnt: The sum count of unique addresses holding at least one in Xth of the current supply of native units as of the end of that day. Only native units are considered (e.g., an address with less than one ten-billionth ETH but with ERC-20 tokens would not be considered).\n",
    "* AdrBal1in10MCnt: The sum count of unique addresses holding at least one in Xth of the current supply of native units as of the end of that day. Only native units are considered (e.g., an address with less than one ten-billionth ETH but with ERC-20 tokens would not be considered).\n",
    "* AdrBal1in1BCnt: The sum count of unique addresses holding at least one in Xth of the current supply of native units as of the end of that day. Only native units are considered (e.g., an address with less than one ten-billionth ETH but with ERC-20 tokens would not be considered). \n",
    "* AdrBal1in1KCnt: Addresses, with balance, greater than 1in1K, count.\n",
    "* AdrBal1in1MCnt: The sum count of unique addresses holding at least one in Xth of the current supply of native units as of the end of that day. Only native units are considered (e.g., an address with less than one ten-billionth ETH but with ERC-20 tokens would not be considered).\n",
    "* AdrBalCnt: The sum count of unique addresses holding any amount of native units as of the end of that day. Only native units are considered (e.g., a 0 ETH balance address with ERC-20 tokens would not be considered). \n",
    "* AdrBalNtv0.001Cnt: The sum count of unique addresses holding at least X native units as of the end of that day. Only native units are considered (e.g., an address with less than X ETH but with more than X in ERC-20 tokens would not be considered).\n",
    "* AdrBalNtv0.01Cnt: The sum count of unique addresses holding at least X native units as of the end of that day. Only native units are considered (e.g., an address with less than X ETH but with more than X in ERC-20 tokens would not be considered).\n",
    "* AdrBalNtv0.1Cnt: Addresses, with balance, greater than 0.1 native units, count.\n",
    "* AdrBalNtv100Cnt: Addresses, with balance, greater than 100 native units, count.\n",
    "* AdrBalNtv100KCnt: Addresses, with balance, greater than 100K native units, count. \n",
    "* AdrBalNtv10Cnt: Addresses, with balance, greater than 10 native units, count.\n",
    "* AdrBalNtv10KCnt: Addresses, with balance, greater than 10K native units, count.\n",
    "* AdrBalNtv1Cnt: Addresses, with balance, greater than 1 native units, count.\n",
    "* AdrBalNtv1KCnt: Addresses, with balance, greater than 1K native units, count.\n",
    "* AdrBalNtv1MCnt: Addresses, with balance, greater than 1M native units, count. \n",
    "* AdrBalUSD100Cnt: Addresses, with balance, greater than $100, count.\n",
    "* AdrBalUSD100KCnt: Addresses, with balance, greater than $100K, count. \n",
    "* AdrBalUSD10Cnt: Addresses, with balance, greater than $10, count.\n",
    "* AdrBalUSD10KCnt: Addresses, with balance, greater than $10K, count. \n",
    "* AdrBalUSD10MCnt: Addresses, with balance, greater than $10M, count. \n",
    "* AdrBalUSD1Cnt: Addresses, with balance, greater than $1, count. \n",
    "* AdrBalUSD1KCnt: Addresses, with balance, greater than $1K, count. \n",
    "* AdrBalUSD1MCnt: Addresses, with balance, greater than $1M, count. \n",
    "* AssetEODCompletionTime: Last fully calculated EOD metrics time.\n",
    "* BlkCnt: Block, count. The sum count of blocks created that day that were included in the main (base) chain.\n",
    "* BlkSizeMeanByte: Block size mean bytes. The mean size (in bytes) of all blocks created that day.\n",
    "* BlkWghtMean: The mean weight of all blocks created that day. Weight is a dimensionless measure of a block’s “size”. It is only applicable for chains that use SegWit (segregated witness).\n",
    "* BlkWghtTot: Block, weight, total.\n",
    "* CapAct1yrUSD: The sum USD value of all active native units in the last year. Native units that transacted more than once are only counted once.\n",
    "* CapMVRVCur: The ratio of the sum USD value of the current supply to the sum \"realized\" USD value of the current supply.\n",
    "* CapMVRVFF: Capitalization, MVRV, free float.\n",
    "* CapMrktCurUSD: The sum USD value of the current supply. Also referred to as network value or market capitalization.\n",
    "* CapMrktEstUSD: \n",
    "* CapMrktFFUSD: The sum USD value of the free float supply. Also referred to as free float network value or free float market capitalization.\n",
    "* CapRealUSD: The sum USD value based on the USD closing price on the day that a native unit last moved (i.e., last transacted) for all native units.\n",
    "* DiffLast: The difficulty of the last block in the considered time period. Difficulty represents how hard it is to find a hash that meets the protocol-designated requirement (i.e., the difficulty of finding a new block) that day. The requirement is unique to each applicable cryptocurrency protocol. Difficulty is adjusted periodically by the protocol as a function of how much hashing power is being deployed by miners.\n",
    "* DiffMean: The mean difficulty of finding a hash that meets the protocol-designated requirement (i.e., the difficulty of finding a new block) that day. The requirement is unique to each applicable cryptocurrency protocol. Difficulty is adjusted periodically by the protocol as a function of how much hashing power is being deployed by miners.\n",
    "* FeeByteMeanNtv: The mean transaction fee per byte of all blocks that interval in native units.\n",
    "* FeeMeanNtv: The mean fee per transaction in native units that day.\n",
    "* FeeMeanUSD: The mean fee per transaction in USD that day.\n",
    "* FeeMedNtv: The median fee per transaction in native units that day.\n",
    "* FeeMedUSD: The median fee per transaction in USD that day.\n",
    "* FeeTotNtv: The sum of all fees paid to miners, transaction validators, stakers and/or block producers that day. In certain cryptonetworks, fees might be burned (destroyed), but they are still accounted for in this metric.\n",
    "* FeeTotUSD: The sum USD value of all fees paid to miners, transaction validators, stakers and/or block producers that day. In certain cryptonetworks, fees might be burned (destroyed), but they are still accounted for in this metric.\n",
    "* FlowInExNtv: The sum number of native units sent to exchanges that day, excluding exchange to exchange activity.\n",
    "* FlowInExUSD: The sum USD value sent to exchanges that day, excluding exchange to exchange activity.\n",
    "* FlowOutExNtv: The sum in native units withdrawn from exchanges that day, excluding exchange to exchange activity.\n",
    "* FlowOutExUSD: The sum USD value withdrawn from exchanges that day, excluding exchange to exchange activity.\n",
    "* FlowTfrFromExCnt: The sum count of transfers from any address belonging to an exchange in that interval. Transfers between exchanges are not counted.\n",
    "* HashRate: The mean rate at which miners are solving hashes that day. Hash rate is the speed at which computations are being completed across all miners in the network. The unit of measurement varies depending on the protocol.\n",
    "* HashRate30d: The mean rate at which miners are solving hashes over the last 30 days. Hash rate is the speed at which computations are being completed across all miners in the network. The unit of measurement varies depending on the protocol.\n",
    "* IssContNtv: The sum of USD value issued that day. Only those native units that are issued by a protocol-mandated continuous emission schedule are included.\n",
    "* IssContPctAnn: The percentage of new native units (continuous) issued on that day, extrapolated to one year (i.e., multiplied by 365), and divided by the current supply on that day. Sometimes referred to as the annual inflation rate.\n",
    "* IssContPctDay: The percentage of new native units (continuous) issued on that day divided by the current supply on that day. Also referred to as the daily inflation rate.\n",
    "* IssContUSD: Issuance, continuous, USD.\n",
    "* IssTotNtv: The sum of all new native units issued that day.\n",
    "* IssTotUSD: The sum USD value of all new native units issued that day.\n",
    "* NDF: Network distribution factor.\n",
    "* NVTAdj: The ratio of the network value (or market capitalization, current supply) divided by the adjusted transfer value. Also referred to as NVT.\n",
    "* NVTAdj90: The ratio of the network value (or market capitalization, current supply) to the 90-day moving average of the adjusted transfer value. Also referred to as NVT.\n",
    "* NVTAdjFF: The ratio of the free float network value (or market capitalization, free float) divided by the adjusted transfer value. Also referred to as FFNVT.\n",
    "* NVTAdjFF90: NVT, adjusted, free float, 90d MA.\n",
    "* PriceBTC: The fixed closing price of the asset as of 00:00 UTC the following day (i.e., midnight UTC of the current day) denominated in BTC.\n",
    "* PriceUSD: Price USD.\n",
    "* ROI1yr: ROI, percent, 1yr.\n",
    "* ROI30d: ROI, percent, 30d.\n",
    "* ReferenceRate: Reference Rates are designed to represent the price of a cryptoasset in an arms length transaction between a willing buyer and willing seller. It is designed to reflect the price where the majority of trades took place for a given cryptoasset using multiple markets as input data sources.\n",
    "* ReferenceRateETH: Reference Rate in ETH.\n",
    "* ReferenceRateEUR: Reference Rate in EUR.\n",
    "* ReferenceRateUSD: Reference Rate in USD.\n",
    "* RevAllTimeUSD: The sum USD value of all miner revenue (fees plus newly issued native units) for all time.\n",
    "* RevHashNtv: The mean miner reward per estimated hash unit performed during the period, in native units. The unit of hashpower measurement depends on the protocol.\n",
    "* RevHashRateNtv: The mean daily miner reward per estimated hash unit per second performed during the period, in native units. The unit of hashpower measurement depends on the protocol.\n",
    "* RevHashRateUSD: The USD value of the mean daily miner reward per estimated hash unit per second performed during the period, also known as hashprice. The unit of hashpower measurement depends on the protocol.\n",
    "* RevHashUSD: The mean miner reward per estimated hash unit performed during the period, in USD. The unit of hashpower measurement depends on the protocol.\n",
    "* RevNtv: The sum native units of miner revenue (fees plus newly issued native units) that interval.\n",
    "* RevUSD: Miner revenue, USD.\n",
    "* SER: Supply equality ratio.\n",
    "* SplyAct10yr: The sum of unique native units that transacted at least once in the trailing 10 years up to the end of that interval. Native units that transacted more than once are only counted once.\n",
    "* SplyAct180d: The sum of unique native units that transacted at least once in the trailing X up to that day. Native units that transacted more than once are only counted once.\n",
    "* SplyAct1d: The sum of unique native units that transacted at least once in the trailing X up to that day. Native units that transacted more than once are only counted once.\n",
    "* SplyAct1yr: The sum of unique native units that transacted at least once in the trailing X up to that day. Native units that transacted more than once are only counted once.\n",
    "* SplyAct2yr: Supply, active, 2 years.\n",
    "* SplyAct30d: Supply, active, 30 days.\n",
    "* SplyAct3yr: Supply, active, 3 years.\n",
    "* SplyAct4yr: Supply, active, 4 years.\n",
    "* SplyAct5yr: Supply, active, 5 years.\n",
    "* SplyAct7d: Supply, active, 7 days.\n",
    "* SplyAct90d: Supply, active, 90 days.\n",
    "* SplyActEver: Supply, active, ever.\n",
    "* SplyActPct1yr: The percentage of the current supply that has been active in the trailing 1 year up to that day.\n",
    "* SplyAdrBal1in100K: The sum of all native units being held in addresses whose balance was at least one in X of the current supply of native units as the end of that day. Only native units are considered (e.g., an address with less than X ETH but with more than X in ERC-20 tokens would not be considered). Supply, in addresses with balance, greater than 1in100K.\n",
    "* SplyAdrBal1in100M: Supply, in addresses with balance, greater than 1in100M.\n",
    "* SplyAdrBal1in10B: Supply, in addresses with balance, greater than 1in10B.\n",
    "* SplyAdrBal1in10K: Supply, in addresses with balance, greater than 1in10K.\n",
    "* SplyAdrBal1in10M: Supply, in addresses with balance, greater than 1in10M. \n",
    "* SplyAdrBal1in1B: Supply, in addresses with balance, greater than 1in1B.\n",
    "* SplyAdrBal1in1K: Supply, in addresses with balance, greater than 1in1K.\n",
    "* SplyAdrBal1in1M: Supply, in addresses with balance, greater than 1in1M.\n",
    "* SplyAdrBalNtv0.001: Supply, in addresses with balance, greater than 0.001 native unit.\n",
    "* SplyAdrBalNtv0.01: Supply, in addresses with balance, greater than 0.01 native unit.\n",
    "* SplyAdrBalNtv0.1: Supply, in addresses with balance, greater than 0.1 native unit.\n",
    "* SplyAdrBalNtv1: Supply, in addresses with balance, greater than 1 native unit.\n",
    "* SplyAdrBalNtv10: Supply, in addresses with balance, greater than 10 native units.\n",
    "* SplyAdrBalNtv100: Supply, in addresses with balance, greater than 100 native units.\n",
    "* SplyAdrBalNtv100K: Supply, in addresses with balance, greater than 100K native units.\n",
    "* SplyAdrBalNtv10K: Supply, in addresses with balance, greater than 10K native units.\n",
    "* SplyAdrBalNtv1K: Supply, in addresses with balance, greater than 1K native units.\n",
    "* SplyAdrBalNtv1M: Supply, in addresses with balance, greater than 1M native units.\n",
    "* SplyAdrBalUSD1: Supply, in addresses with balance, greater than $1.\n",
    "* SplyAdrBalUSD10: Supply, in addresses with balance, greater than $10. \n",
    "* SplyAdrBalUSD100: Supply, in addresses with balance, greater than $100.\n",
    "* SplyAdrBalUSD100K: Supply, in addresses with balance, greater than $100K.\n",
    "* SplyAdrBalUSD10K: Supply, in addresses with balance, greater than $10K.\n",
    "* SplyAdrBalUSD10M: Supply, in addresses with balance, greater than $10M.\n",
    "* SplyAdrBalUSD1K: Supply, in addresses with balance, greater than $1K.\n",
    "* SplyAdrBalUSD1M: Supply, in addresses with balance, greater than $1M.\n",
    "* SplyAdrTop100: The sum of all native units held by the richest 100 addresses at the end of that time interval.\n",
    "* SplyAdrTop10Pct: The sum of all native units held by the richest 10% of addresses at the end of that interval.\n",
    "* SplyAdrTop1Pct: The sum of all native units held by the top 1% addresses by balance at the end of that time interval.\n",
    "* SplyCur: The sum of all native units ever created and currently visible on the ledger (i.e., issued) as of that day. For account-based protocols, only accounts with positive balances are counted.\n",
    "* SplyExpFut10yr: The sum of all native units counting current supply and including all those expected to be issued over the next 10 years from that day if the current known continuous issuance schedule is followed. Future expected hard-forks that will change the continuous issuance are not considered until the day they are activated/enforced.\n",
    "* SplyFF: The sum of all native units ever created and visible on the ledger excluding native units held closely by company insiders, controlling investors and long term strategic holders as of that day.\n",
    "* SplyMiner0HopAllNtv: The sum of the balances of all mining entities. A mining entity is defined as an address that has been credited from a transaction debiting the 'FEES' or 'ISSUANCE' accounts in accordance with Coin Metric’s Universal Blockchain Data Model (UBDM).\n",
    "* SplyMiner0HopAllUSD: The sum of the balances of all mining entities in USD terms. A mining entity is defined as an address that has been credited from a transaction debiting the 'FEES' or 'ISSUANCE' accounts in accordance with Coin Metric’s Universal Blockchain Data Model (UBDM).\n",
    "* SplyMiner1HopAllNtv: Supply, Miner, held by all addresses within one hop of a mining entity, native units.\n",
    "* SplyMiner1HopAllUSD: Supply, Miner, held by all addresses within one hop of a mining entity, USD.\n",
    "* TxTfrCnt: A transaction is comprised of one or more transfers between different entities. A single transaction may contain dozens of distinct transfers, which represent the movements of native units from one ledger entity to another distinct ledger entity. Only transfers that have a positive (non-zero) value are counted. Transfers have been colloquially referred to as \"payments\".\n",
    "* TxTfrValAdjNtv: Transactions, transfers, value, adjusted, native units.\n",
    "* TxTfrValAdjUSD: The USD value of the sum of native units transferred that day removing noise and certain artifacts.\n",
    "* TxTfrValMeanNtv: The sum value of native units transferred divided by the count of transfers (i.e., the mean size of a transfer) between distinct addresses that interval.\n",
    "* TxTfrValMeanUSD: The sum USD value of native units transferred divided by the count of transfers (i.e., the mean \"size\" in USD of a transfer) that day.\n",
    "* TxTfrValMedNtv: The median count of native units transferred per transfer (i.e., the median \"size\" of a transfer) that day.\n",
    "* TxTfrValMedUSD: The median USD value transferred per transfer (i.e., the median \"size\" in USD of a transfer) that day.\n",
    "* VelCur1yr: Velocity, current supply, 1yr\n",
    "* VtyDayRet180d: The 180 days volatility, measured as the deviation of log returns.\n",
    "* VtyDayRet30d: The 30 days volatility, measured as the deviation of log returns.\n",
    "* Principal_market_price_usd:\n"
   ]
  },
  {
   "cell_type": "markdown",
   "metadata": {},
   "source": [
    "## Librerías"
   ]
  },
  {
   "cell_type": "code",
   "execution_count": 1,
   "metadata": {},
   "outputs": [],
   "source": [
    "import pandas as pd\n",
    "import numpy as np\n",
    "import glob"
   ]
  },
  {
   "cell_type": "markdown",
   "metadata": {},
   "source": [
    "## Lectura de ejemplo\n",
    "\n",
    "Dado que se van a analizar las hipótesis de eficiencia de los mercados de criptomonedas, se va a limitar el tamaño del _DataFrame_. En concreto, se van a conservar las columnas _time_ y _PriceUSD_, relativas a la fecha y al precio en dólares, respectivamente. Esto con el objetivo de calcular las rentabilidades."
   ]
  },
  {
   "cell_type": "code",
   "execution_count": 55,
   "metadata": {},
   "outputs": [
    {
     "data": {
      "text/html": [
       "<div>\n",
       "<style scoped>\n",
       "    .dataframe tbody tr th:only-of-type {\n",
       "        vertical-align: middle;\n",
       "    }\n",
       "\n",
       "    .dataframe tbody tr th {\n",
       "        vertical-align: top;\n",
       "    }\n",
       "\n",
       "    .dataframe thead th {\n",
       "        text-align: right;\n",
       "    }\n",
       "</style>\n",
       "<table border=\"1\" class=\"dataframe\">\n",
       "  <thead>\n",
       "    <tr style=\"text-align: right;\">\n",
       "      <th></th>\n",
       "      <th>time</th>\n",
       "      <th>PriceUSD</th>\n",
       "    </tr>\n",
       "  </thead>\n",
       "  <tbody>\n",
       "    <tr>\n",
       "      <th>0</th>\n",
       "      <td>2009-01-03</td>\n",
       "      <td>NaN</td>\n",
       "    </tr>\n",
       "    <tr>\n",
       "      <th>1</th>\n",
       "      <td>2009-01-04</td>\n",
       "      <td>NaN</td>\n",
       "    </tr>\n",
       "    <tr>\n",
       "      <th>2</th>\n",
       "      <td>2009-01-05</td>\n",
       "      <td>NaN</td>\n",
       "    </tr>\n",
       "    <tr>\n",
       "      <th>3</th>\n",
       "      <td>2009-01-06</td>\n",
       "      <td>NaN</td>\n",
       "    </tr>\n",
       "    <tr>\n",
       "      <th>4</th>\n",
       "      <td>2009-01-07</td>\n",
       "      <td>NaN</td>\n",
       "    </tr>\n",
       "    <tr>\n",
       "      <th>...</th>\n",
       "      <td>...</td>\n",
       "      <td>...</td>\n",
       "    </tr>\n",
       "    <tr>\n",
       "      <th>5037</th>\n",
       "      <td>2022-10-19</td>\n",
       "      <td>19132.154425</td>\n",
       "    </tr>\n",
       "    <tr>\n",
       "      <th>5038</th>\n",
       "      <td>2022-10-20</td>\n",
       "      <td>19033.376024</td>\n",
       "    </tr>\n",
       "    <tr>\n",
       "      <th>5039</th>\n",
       "      <td>2022-10-21</td>\n",
       "      <td>19174.876349</td>\n",
       "    </tr>\n",
       "    <tr>\n",
       "      <th>5040</th>\n",
       "      <td>2022-10-22</td>\n",
       "      <td>19207.628508</td>\n",
       "    </tr>\n",
       "    <tr>\n",
       "      <th>5041</th>\n",
       "      <td>2022-10-23</td>\n",
       "      <td>NaN</td>\n",
       "    </tr>\n",
       "  </tbody>\n",
       "</table>\n",
       "<p>5042 rows × 2 columns</p>\n",
       "</div>"
      ],
      "text/plain": [
       "           time      PriceUSD\n",
       "0    2009-01-03           NaN\n",
       "1    2009-01-04           NaN\n",
       "2    2009-01-05           NaN\n",
       "3    2009-01-06           NaN\n",
       "4    2009-01-07           NaN\n",
       "...         ...           ...\n",
       "5037 2022-10-19  19132.154425\n",
       "5038 2022-10-20  19033.376024\n",
       "5039 2022-10-21  19174.876349\n",
       "5040 2022-10-22  19207.628508\n",
       "5041 2022-10-23           NaN\n",
       "\n",
       "[5042 rows x 2 columns]"
      ]
     },
     "execution_count": 55,
     "metadata": {},
     "output_type": "execute_result"
    }
   ],
   "source": [
    "BTC = pd.read_csv(\"csv221022/btc.csv\",\n",
    "                  sep = \",\",\n",
    "                  header = 0,\n",
    "                  usecols = [\"time\",\"PriceUSD\"],\n",
    "                  parse_dates= [\"time\"])\n",
    "BTC"
   ]
  },
  {
   "cell_type": "markdown",
   "metadata": {},
   "source": [
    "## Generar una lista de nombres de los activos, a partir de los archivos csv"
   ]
  },
  {
   "cell_type": "code",
   "execution_count": 2,
   "metadata": {},
   "outputs": [],
   "source": [
    "path = \"csv221022/\"\n",
    "csvs = sorted(glob.glob(path + \"*.csv\"))\n",
    "nombres = [element.replace(\"csv221022/\", \"\") for element in csvs]\n",
    "nombres = [element.replace(\".csv\", \"\") for element in nombres]"
   ]
  },
  {
   "cell_type": "markdown",
   "metadata": {},
   "source": [
    "## Lectura de todos los csv"
   ]
  },
  {
   "cell_type": "markdown",
   "metadata": {},
   "source": [
    "Añadir una linea de codigo al bucle que consiga modificar el nombre del ultimo elemento añadido a la lista a través de corchetes y un replace"
   ]
  },
  {
   "cell_type": "code",
   "execution_count": 79,
   "metadata": {},
   "outputs": [],
   "source": [
    "dataframes_list = []\n",
    "for i in range(len(nombres)):\n",
    "    temp_df = pd.read_csv(filepath_or_buffer = \"csv221022/\"+nombres[i]+\".csv\",\n",
    "                          header = 0,\n",
    "                          sep = \",\",\n",
    "                          parse_dates = [\"time\"])\n",
    "    dataframes_list.append(temp_df)\n",
    "    "
   ]
  },
  {
   "cell_type": "code",
   "execution_count": 80,
   "metadata": {},
   "outputs": [
    {
     "name": "stdout",
     "output_type": "stream",
     "text": [
      "[110, 110, 7, 7, 122, 7, 7, 7, 7, 7, 7, 115, 7, 7, 107, 7, 7, 7, 7, 108, 7, 7, 7, 7, 7, 7, 7, 7, 7, 7, 7, 7, 7, 7, 7, 7, 7, 7, 110, 7, 110, 7, 130, 7, 7, 7, 7, 110, 104, 7, 7, 7, 7, 130, 146, 130, 7, 110, 7, 7, 7, 7, 7, 7, 7, 7, 7, 110, 7, 7, 7, 110, 7, 110, 7, 7, 7, 108, 7, 108, 7, 129, 126, 7, 128, 7, 7, 7, 130, 110, 107, 7, 7, 7, 108, 7, 7, 7, 25, 101, 7, 140, 144, 7, 7, 7, 7, 7, 7, 7, 7, 7, 7, 7, 110, 108, 7, 102, 7, 7, 7, 105, 7, 7, 7, 7, 7, 110, 102, 7, 7, 38, 7, 7, 7, 108, 7, 102, 107, 7, 7, 110, 109, 115, 7, 7, 7, 7, 7, 7, 7, 7, 7, 7, 7, 7, 73, 7, 7, 7, 7, 7, 7, 108, 7, 7, 7, 7, 7, 102, 25, 102, 110, 7, 108, 108, 7, 132, 7, 7, 104, 108, 7, 7, 104, 7, 7, 7, 7, 7, 7, 7, 7, 7, 110, 7, 7, 7, 7, 7, 4, 7, 7, 120, 7, 7, 7, 7, 7, 7, 102, 7, 7, 7, 7, 7, 7, 108, 7, 7, 7, 7, 7, 7, 7, 109, 110, 107, 7, 108, 7, 7, 7, 7, 108, 7, 108, 107, 7, 7, 107, 7, 7, 108, 7, 7, 7, 7, 7, 7, 7, 7, 110, 108, 105, 7, 102, 7, 7, 7, 7, 7, 7, 7, 7, 7, 7, 101, 7, 7, 7, 7, 7, 7, 7, 7, 7, 108, 110, 7, 7, 7, 105, 7, 12, 7, 7, 7, 7, 7, 7, 7, 7, 7, 110, 104, 7, 7, 7, 7, 7, 7, 7, 7, 7, 7, 33, 103, 7, 101, 7, 7, 110, 7, 110, 110, 107, 7, 110, 104, 104, 104, 7, 7, 7, 126, 7, 7, 7, 108, 102, 108, 7, 7, 107, 110, 7, 7, 41, 122, 46, 116, 125, 126, 7, 7, 7, 110, 7, 7, 130, 7, 7, 110]\n"
     ]
    }
   ],
   "source": [
    "print(longli)"
   ]
  },
  {
   "cell_type": "code",
   "execution_count": 78,
   "metadata": {},
   "outputs": [
    {
     "data": {
      "text/plain": [
       "110"
      ]
     },
     "execution_count": 78,
     "metadata": {},
     "output_type": "execute_result"
    }
   ],
   "source": [
    "#Calcula el número de columna que coincida con PriceUSD en el df concreto del loop for anterior\n",
    "len(temp_df.columns==\"PriceUSD\")\n"
   ]
  },
  {
   "cell_type": "markdown",
   "metadata": {},
   "source": [
    "### Comprobar si existe la columna \"PriceUSD\" en todos los CSV"
   ]
  },
  {
   "cell_type": "code",
   "execution_count": 84,
   "metadata": {},
   "outputs": [
    {
     "name": "stdout",
     "output_type": "stream",
     "text": [
      "    Existe  Donde Archivo\n",
      "0     True    110   1inch\n",
      "1     True    110    aave\n",
      "2    False      0     aca\n",
      "3    False      0     ach\n",
      "4     True    122     ada\n",
      "..     ...    ...     ...\n",
      "349  False      0     ygg\n",
      "350   True    130     zec\n",
      "351  False      0     zen\n",
      "352  False      0     zks\n",
      "353   True    110     zrx\n",
      "\n",
      "[354 rows x 3 columns]\n"
     ]
    }
   ],
   "source": [
    "dataframes_list = []\n",
    "boo = []\n",
    "longli = []\n",
    "archli = []\n",
    "for i in range(len(nombres)):\n",
    "        temp_df = pd.read_csv(filepath_or_buffer = \"csv221022/\"+nombres[i]+\".csv\",\n",
    "                          header = 0,\n",
    "                          sep = \",\")\n",
    "        if \"PriceUSD\" in temp_df.columns:\n",
    "            boo1 = \"True\"\n",
    "            longi = len(temp_df.columns==\"PriceUSD\")\n",
    "            archi = nombres[i]\n",
    "            boo.append(boo1)\n",
    "            longli.append(longi)\n",
    "            archli.append(archi)\n",
    "        else:\n",
    "            boo1 = \"False\"\n",
    "            boo.append(boo1)\n",
    "            longi = 0\n",
    "            longli.append(longi)\n",
    "            archi = nombres[i]\n",
    "            archli.append(archi)\n",
    "            \n",
    "        dataframes_list.append(temp_df)\n",
    "df = pd.DataFrame({\n",
    "    \"Existe\":boo,\n",
    "    \"Donde\":longli,\n",
    "    \"Archivo\":archli})\n",
    "print(df)"
   ]
  }
 ],
 "metadata": {
  "kernelspec": {
   "display_name": "Python 3.10.4 64-bit",
   "language": "python",
   "name": "python3"
  },
  "language_info": {
   "codemirror_mode": {
    "name": "ipython",
    "version": 3
   },
   "file_extension": ".py",
   "mimetype": "text/x-python",
   "name": "python",
   "nbconvert_exporter": "python",
   "pygments_lexer": "ipython3",
   "version": "3.10.6"
  },
  "orig_nbformat": 4,
  "vscode": {
   "interpreter": {
    "hash": "916dbcbb3f70747c44a77c7bcd40155683ae19c65e1c03b4aa3499c5328201f1"
   }
  }
 },
 "nbformat": 4,
 "nbformat_minor": 2
}
