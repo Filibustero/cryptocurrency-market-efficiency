{
 "cells": [
  {
   "cell_type": "markdown",
   "metadata": {},
   "source": [
    "# Cryptocurrency Market Efficiency\n",
    "\n",
    "Este cuaderno está orientado a la documentación de los cálculos."
   ]
  },
  {
   "cell_type": "markdown",
   "metadata": {},
   "source": [
    "### Data Dictionary:"
   ]
  },
  {
   "cell_type": "markdown",
   "metadata": {},
   "source": [
    "* [Link al Github](https://github.com/coinmetrics/data)\n",
    "\n",
    "* [Link al diccionario](https://docs.coinmetrics.io/info/metrics)\n",
    "\n",
    "* AdrActCnt: The sum count of unique addresses that were active in the network (either as a destination or source of a ledger change) that day. All parties in a ledger change action (source and destination) are counted. Individual addresses are not double-counted if previously active.\n",
    "* AdrBal1in100KCnt: The sum count of unique addresses holding at least one in Xth of the current supply of native units as of the end of that day. Only native units are considered (e.g., an address with less than one ten-billionth ETH but with ERC-20 tokens would not be considered).\n",
    "* AdrBal1in100MCnt:The sum count of unique addresses holding at least one in Xth of the current supply of native units as of the end of that day. Only native units are considered (e.g., an address with less than one ten-billionth ETH but with ERC-20 tokens would not be considered).\n",
    "* AdrBal1in100MCnt: The sum count of unique addresses holding at least one in Xth of the current supply of native units as of the end of that day. Only native units are considered (e.g., an address with less than one ten-billionth ETH but with ERC-20 tokens would not be considered). \n",
    "* AdrBal1in10BCnt: The sum count of unique addresses holding at least one in Xth of the current supply of native units as of the end of that day. Only native units are considered (e.g., an address with less than one ten-billionth ETH but with ERC-20 tokens would not be considered).\n",
    "* AdrBal1in10KCnt: The sum count of unique addresses holding at least one in Xth of the current supply of native units as of the end of that day. Only native units are considered (e.g., an address with less than one ten-billionth ETH but with ERC-20 tokens would not be considered).\n",
    "* AdrBal1in10MCnt: The sum count of unique addresses holding at least one in Xth of the current supply of native units as of the end of that day. Only native units are considered (e.g., an address with less than one ten-billionth ETH but with ERC-20 tokens would not be considered).\n",
    "* AdrBal1in1BCnt: The sum count of unique addresses holding at least one in Xth of the current supply of native units as of the end of that day. Only native units are considered (e.g., an address with less than one ten-billionth ETH but with ERC-20 tokens would not be considered). \n",
    "* AdrBal1in1KCnt: Addresses, with balance, greater than 1in1K, count.\n",
    "* AdrBal1in1MCnt: The sum count of unique addresses holding at least one in Xth of the current supply of native units as of the end of that day. Only native units are considered (e.g., an address with less than one ten-billionth ETH but with ERC-20 tokens would not be considered).\n",
    "* AdrBalCnt: The sum count of unique addresses holding any amount of native units as of the end of that day. Only native units are considered (e.g., a 0 ETH balance address with ERC-20 tokens would not be considered). \n",
    "* AdrBalNtv0.001Cnt: The sum count of unique addresses holding at least X native units as of the end of that day. Only native units are considered (e.g., an address with less than X ETH but with more than X in ERC-20 tokens would not be considered).\n",
    "* AdrBalNtv0.01Cnt: The sum count of unique addresses holding at least X native units as of the end of that day. Only native units are considered (e.g., an address with less than X ETH but with more than X in ERC-20 tokens would not be considered).\n",
    "* AdrBalNtv0.1Cnt: Addresses, with balance, greater than 0.1 native units, count.\n",
    "* AdrBalNtv100Cnt: Addresses, with balance, greater than 100 native units, count.\n",
    "* AdrBalNtv100KCnt: Addresses, with balance, greater than 100K native units, count. \n",
    "* AdrBalNtv10Cnt: Addresses, with balance, greater than 10 native units, count.\n",
    "* AdrBalNtv10KCnt: Addresses, with balance, greater than 10K native units, count.\n",
    "* AdrBalNtv1Cnt: Addresses, with balance, greater than 1 native units, count.\n",
    "* AdrBalNtv1KCnt: Addresses, with balance, greater than 1K native units, count.\n",
    "* AdrBalNtv1MCnt: Addresses, with balance, greater than 1M native units, count. \n",
    "* AdrBalUSD100Cnt: Addresses, with balance, greater than $100, count.\n",
    "* AdrBalUSD100KCnt: Addresses, with balance, greater than $100K, count. \n",
    "* AdrBalUSD10Cnt: Addresses, with balance, greater than $10, count.\n",
    "* AdrBalUSD10KCnt: Addresses, with balance, greater than $10K, count. \n",
    "* AdrBalUSD10MCnt: Addresses, with balance, greater than $10M, count. \n",
    "* AdrBalUSD1Cnt: Addresses, with balance, greater than $1, count. \n",
    "* AdrBalUSD1KCnt: Addresses, with balance, greater than $1K, count. \n",
    "* AdrBalUSD1MCnt: Addresses, with balance, greater than $1M, count. \n",
    "* AssetEODCompletionTime: Last fully calculated EOD metrics time.\n",
    "* BlkCnt: Block, count. The sum count of blocks created that day that were included in the main (base) chain.\n",
    "* BlkSizeMeanByte: Block size mean bytes. The mean size (in bytes) of all blocks created that day.\n",
    "* BlkWghtMean: The mean weight of all blocks created that day. Weight is a dimensionless measure of a block’s “size”. It is only applicable for chains that use SegWit (segregated witness).\n",
    "* BlkWghtTot: Block, weight, total.\n",
    "* CapAct1yrUSD: The sum USD value of all active native units in the last year. Native units that transacted more than once are only counted once.\n",
    "* CapMVRVCur: The ratio of the sum USD value of the current supply to the sum \"realized\" USD value of the current supply.\n",
    "* CapMVRVFF: Capitalization, MVRV, free float.\n",
    "* CapMrktCurUSD: The sum USD value of the current supply. Also referred to as network value or market capitalization.\n",
    "* CapMrktEstUSD: \n",
    "* CapMrktFFUSD: The sum USD value of the free float supply. Also referred to as free float network value or free float market capitalization.\n",
    "* CapRealUSD: The sum USD value based on the USD closing price on the day that a native unit last moved (i.e., last transacted) for all native units.\n",
    "* DiffLast: The difficulty of the last block in the considered time period. Difficulty represents how hard it is to find a hash that meets the protocol-designated requirement (i.e., the difficulty of finding a new block) that day. The requirement is unique to each applicable cryptocurrency protocol. Difficulty is adjusted periodically by the protocol as a function of how much hashing power is being deployed by miners.\n",
    "* DiffMean: The mean difficulty of finding a hash that meets the protocol-designated requirement (i.e., the difficulty of finding a new block) that day. The requirement is unique to each applicable cryptocurrency protocol. Difficulty is adjusted periodically by the protocol as a function of how much hashing power is being deployed by miners.\n",
    "* FeeByteMeanNtv: The mean transaction fee per byte of all blocks that interval in native units.\n",
    "* FeeMeanNtv: The mean fee per transaction in native units that day.\n",
    "* FeeMeanUSD: The mean fee per transaction in USD that day.\n",
    "* FeeMedNtv: The median fee per transaction in native units that day.\n",
    "* FeeMedUSD: The median fee per transaction in USD that day.\n",
    "* FeeTotNtv: The sum of all fees paid to miners, transaction validators, stakers and/or block producers that day. In certain cryptonetworks, fees might be burned (destroyed), but they are still accounted for in this metric.\n",
    "* FeeTotUSD: The sum USD value of all fees paid to miners, transaction validators, stakers and/or block producers that day. In certain cryptonetworks, fees might be burned (destroyed), but they are still accounted for in this metric.\n",
    "* FlowInExNtv: The sum number of native units sent to exchanges that day, excluding exchange to exchange activity.\n",
    "* FlowInExUSD: The sum USD value sent to exchanges that day, excluding exchange to exchange activity.\n",
    "* FlowOutExNtv: The sum in native units withdrawn from exchanges that day, excluding exchange to exchange activity.\n",
    "* FlowOutExUSD: The sum USD value withdrawn from exchanges that day, excluding exchange to exchange activity.\n",
    "* FlowTfrFromExCnt: The sum count of transfers from any address belonging to an exchange in that interval. Transfers between exchanges are not counted.\n",
    "* HashRate: The mean rate at which miners are solving hashes that day. Hash rate is the speed at which computations are being completed across all miners in the network. The unit of measurement varies depending on the protocol.\n",
    "* HashRate30d: The mean rate at which miners are solving hashes over the last 30 days. Hash rate is the speed at which computations are being completed across all miners in the network. The unit of measurement varies depending on the protocol.\n",
    "* IssContNtv: The sum of USD value issued that day. Only those native units that are issued by a protocol-mandated continuous emission schedule are included.\n",
    "* IssContPctAnn: The percentage of new native units (continuous) issued on that day, extrapolated to one year (i.e., multiplied by 365), and divided by the current supply on that day. Sometimes referred to as the annual inflation rate.\n",
    "* IssContPctDay: The percentage of new native units (continuous) issued on that day divided by the current supply on that day. Also referred to as the daily inflation rate.\n",
    "* IssContUSD: Issuance, continuous, USD.\n",
    "* IssTotNtv: The sum of all new native units issued that day.\n",
    "* IssTotUSD: The sum USD value of all new native units issued that day.\n",
    "* NDF: Network distribution factor.\n",
    "* NVTAdj: The ratio of the network value (or market capitalization, current supply) divided by the adjusted transfer value. Also referred to as NVT.\n",
    "* NVTAdj90: The ratio of the network value (or market capitalization, current supply) to the 90-day moving average of the adjusted transfer value. Also referred to as NVT.\n",
    "* NVTAdjFF: The ratio of the free float network value (or market capitalization, free float) divided by the adjusted transfer value. Also referred to as FFNVT.\n",
    "* NVTAdjFF90: NVT, adjusted, free float, 90d MA.\n",
    "* PriceBTC: The fixed closing price of the asset as of 00:00 UTC the following day (i.e., midnight UTC of the current day) denominated in BTC.\n",
    "* PriceUSD: Price USD.\n",
    "* ROI1yr: ROI, percent, 1yr.\n",
    "* ROI30d: ROI, percent, 30d.\n",
    "* ReferenceRate: Reference Rates are designed to represent the price of a cryptoasset in an arms length transaction between a willing buyer and willing seller. It is designed to reflect the price where the majority of trades took place for a given cryptoasset using multiple markets as input data sources.\n",
    "* ReferenceRateETH: Reference Rate in ETH.\n",
    "* ReferenceRateEUR: Reference Rate in EUR.\n",
    "* ReferenceRateUSD: Reference Rate in USD.\n",
    "* RevAllTimeUSD: The sum USD value of all miner revenue (fees plus newly issued native units) for all time.\n",
    "* RevHashNtv: The mean miner reward per estimated hash unit performed during the period, in native units. The unit of hashpower measurement depends on the protocol.\n",
    "* RevHashRateNtv: The mean daily miner reward per estimated hash unit per second performed during the period, in native units. The unit of hashpower measurement depends on the protocol.\n",
    "* RevHashRateUSD: The USD value of the mean daily miner reward per estimated hash unit per second performed during the period, also known as hashprice. The unit of hashpower measurement depends on the protocol.\n",
    "* RevHashUSD: The mean miner reward per estimated hash unit performed during the period, in USD. The unit of hashpower measurement depends on the protocol.\n",
    "* RevNtv: The sum native units of miner revenue (fees plus newly issued native units) that interval.\n",
    "* RevUSD: Miner revenue, USD.\n",
    "* SER: Supply equality ratio.\n",
    "* SplyAct10yr: The sum of unique native units that transacted at least once in the trailing 10 years up to the end of that interval. Native units that transacted more than once are only counted once.\n",
    "* SplyAct180d: The sum of unique native units that transacted at least once in the trailing X up to that day. Native units that transacted more than once are only counted once.\n",
    "* SplyAct1d: The sum of unique native units that transacted at least once in the trailing X up to that day. Native units that transacted more than once are only counted once.\n",
    "* SplyAct1yr: The sum of unique native units that transacted at least once in the trailing X up to that day. Native units that transacted more than once are only counted once.\n",
    "* SplyAct2yr: Supply, active, 2 years.\n",
    "* SplyAct30d: Supply, active, 30 days.\n",
    "* SplyAct3yr: Supply, active, 3 years.\n",
    "* SplyAct4yr: Supply, active, 4 years.\n",
    "* SplyAct5yr: Supply, active, 5 years.\n",
    "* SplyAct7d: Supply, active, 7 days.\n",
    "* SplyAct90d: Supply, active, 90 days.\n",
    "* SplyActEver: Supply, active, ever.\n",
    "* SplyActPct1yr: The percentage of the current supply that has been active in the trailing 1 year up to that day.\n",
    "* SplyAdrBal1in100K: The sum of all native units being held in addresses whose balance was at least one in X of the current supply of native units as the end of that day. Only native units are considered (e.g., an address with less than X ETH but with more than X in ERC-20 tokens would not be considered). Supply, in addresses with balance, greater than 1in100K.\n",
    "* SplyAdrBal1in100M: Supply, in addresses with balance, greater than 1in100M.\n",
    "* SplyAdrBal1in10B: Supply, in addresses with balance, greater than 1in10B.\n",
    "* SplyAdrBal1in10K: Supply, in addresses with balance, greater than 1in10K.\n",
    "* SplyAdrBal1in10M: Supply, in addresses with balance, greater than 1in10M. \n",
    "* SplyAdrBal1in1B: Supply, in addresses with balance, greater than 1in1B.\n",
    "* SplyAdrBal1in1K: Supply, in addresses with balance, greater than 1in1K.\n",
    "* SplyAdrBal1in1M: Supply, in addresses with balance, greater than 1in1M.\n",
    "* SplyAdrBalNtv0.001: Supply, in addresses with balance, greater than 0.001 native unit.\n",
    "* SplyAdrBalNtv0.01: Supply, in addresses with balance, greater than 0.01 native unit.\n",
    "* SplyAdrBalNtv0.1: Supply, in addresses with balance, greater than 0.1 native unit.\n",
    "* SplyAdrBalNtv1: Supply, in addresses with balance, greater than 1 native unit.\n",
    "* SplyAdrBalNtv10: Supply, in addresses with balance, greater than 10 native units.\n",
    "* SplyAdrBalNtv100: Supply, in addresses with balance, greater than 100 native units.\n",
    "* SplyAdrBalNtv100K: Supply, in addresses with balance, greater than 100K native units.\n",
    "* SplyAdrBalNtv10K: Supply, in addresses with balance, greater than 10K native units.\n",
    "* SplyAdrBalNtv1K: Supply, in addresses with balance, greater than 1K native units.\n",
    "* SplyAdrBalNtv1M: Supply, in addresses with balance, greater than 1M native units.\n",
    "* SplyAdrBalUSD1: Supply, in addresses with balance, greater than $1.\n",
    "* SplyAdrBalUSD10: Supply, in addresses with balance, greater than $10. \n",
    "* SplyAdrBalUSD100: Supply, in addresses with balance, greater than $100.\n",
    "* SplyAdrBalUSD100K: Supply, in addresses with balance, greater than $100K.\n",
    "* SplyAdrBalUSD10K: Supply, in addresses with balance, greater than $10K.\n",
    "* SplyAdrBalUSD10M: Supply, in addresses with balance, greater than $10M.\n",
    "* SplyAdrBalUSD1K: Supply, in addresses with balance, greater than $1K.\n",
    "* SplyAdrBalUSD1M: Supply, in addresses with balance, greater than $1M.\n",
    "* SplyAdrTop100: The sum of all native units held by the richest 100 addresses at the end of that time interval.\n",
    "* SplyAdrTop10Pct: The sum of all native units held by the richest 10% of addresses at the end of that interval.\n",
    "* SplyAdrTop1Pct: The sum of all native units held by the top 1% addresses by balance at the end of that time interval.\n",
    "* SplyCur: The sum of all native units ever created and currently visible on the ledger (i.e., issued) as of that day. For account-based protocols, only accounts with positive balances are counted.\n",
    "* SplyExpFut10yr: The sum of all native units counting current supply and including all those expected to be issued over the next 10 years from that day if the current known continuous issuance schedule is followed. Future expected hard-forks that will change the continuous issuance are not considered until the day they are activated/enforced.\n",
    "* SplyFF: The sum of all native units ever created and visible on the ledger excluding native units held closely by company insiders, controlling investors and long term strategic holders as of that day.\n",
    "* SplyMiner0HopAllNtv: The sum of the balances of all mining entities. A mining entity is defined as an address that has been credited from a transaction debiting the 'FEES' or 'ISSUANCE' accounts in accordance with Coin Metric’s Universal Blockchain Data Model (UBDM).\n",
    "* SplyMiner0HopAllUSD: The sum of the balances of all mining entities in USD terms. A mining entity is defined as an address that has been credited from a transaction debiting the 'FEES' or 'ISSUANCE' accounts in accordance with Coin Metric’s Universal Blockchain Data Model (UBDM).\n",
    "* SplyMiner1HopAllNtv: Supply, Miner, held by all addresses within one hop of a mining entity, native units.\n",
    "* SplyMiner1HopAllUSD: Supply, Miner, held by all addresses within one hop of a mining entity, USD.\n",
    "* TxTfrCnt: A transaction is comprised of one or more transfers between different entities. A single transaction may contain dozens of distinct transfers, which represent the movements of native units from one ledger entity to another distinct ledger entity. Only transfers that have a positive (non-zero) value are counted. Transfers have been colloquially referred to as \"payments\".\n",
    "* TxTfrValAdjNtv: Transactions, transfers, value, adjusted, native units.\n",
    "* TxTfrValAdjUSD: The USD value of the sum of native units transferred that day removing noise and certain artifacts.\n",
    "* TxTfrValMeanNtv: The sum value of native units transferred divided by the count of transfers (i.e., the mean size of a transfer) between distinct addresses that interval.\n",
    "* TxTfrValMeanUSD: The sum USD value of native units transferred divided by the count of transfers (i.e., the mean \"size\" in USD of a transfer) that day.\n",
    "* TxTfrValMedNtv: The median count of native units transferred per transfer (i.e., the median \"size\" of a transfer) that day.\n",
    "* TxTfrValMedUSD: The median USD value transferred per transfer (i.e., the median \"size\" in USD of a transfer) that day.\n",
    "* VelCur1yr: Velocity, current supply, 1yr\n",
    "* VtyDayRet180d: The 180 days volatility, measured as the deviation of log returns.\n",
    "* VtyDayRet30d: The 30 days volatility, measured as the deviation of log returns.\n",
    "* Principal_market_price_usd:\n"
   ]
  },
  {
   "cell_type": "markdown",
   "metadata": {},
   "source": [
    "## Librerías"
   ]
  },
  {
   "cell_type": "code",
   "execution_count": 1,
   "metadata": {},
   "outputs": [],
   "source": [
    "import pandas as pd\n",
    "import numpy as np\n",
    "import glob"
   ]
  },
  {
   "cell_type": "markdown",
   "metadata": {},
   "source": [
    "## Lectura de ejemplo\n",
    "\n",
    "Dado que se van a analizar las hipótesis de eficiencia de los mercados de criptomonedas, se va a limitar el tamaño del _DataFrame_. En concreto, se van a conservar las columnas _time_ y _PriceUSD_, relativas a la fecha y al precio en dólares, respectivamente. Esto con el objetivo de calcular las rentabilidades."
   ]
  },
  {
   "cell_type": "code",
   "execution_count": 2,
   "metadata": {},
   "outputs": [
    {
     "data": {
      "text/html": [
       "<div>\n",
       "<style scoped>\n",
       "    .dataframe tbody tr th:only-of-type {\n",
       "        vertical-align: middle;\n",
       "    }\n",
       "\n",
       "    .dataframe tbody tr th {\n",
       "        vertical-align: top;\n",
       "    }\n",
       "\n",
       "    .dataframe thead th {\n",
       "        text-align: right;\n",
       "    }\n",
       "</style>\n",
       "<table border=\"1\" class=\"dataframe\">\n",
       "  <thead>\n",
       "    <tr style=\"text-align: right;\">\n",
       "      <th></th>\n",
       "      <th>time</th>\n",
       "      <th>PriceUSD</th>\n",
       "    </tr>\n",
       "  </thead>\n",
       "  <tbody>\n",
       "    <tr>\n",
       "      <th>0</th>\n",
       "      <td>2009-01-03</td>\n",
       "      <td>NaN</td>\n",
       "    </tr>\n",
       "    <tr>\n",
       "      <th>1</th>\n",
       "      <td>2009-01-04</td>\n",
       "      <td>NaN</td>\n",
       "    </tr>\n",
       "    <tr>\n",
       "      <th>2</th>\n",
       "      <td>2009-01-05</td>\n",
       "      <td>NaN</td>\n",
       "    </tr>\n",
       "    <tr>\n",
       "      <th>3</th>\n",
       "      <td>2009-01-06</td>\n",
       "      <td>NaN</td>\n",
       "    </tr>\n",
       "    <tr>\n",
       "      <th>4</th>\n",
       "      <td>2009-01-07</td>\n",
       "      <td>NaN</td>\n",
       "    </tr>\n",
       "    <tr>\n",
       "      <th>...</th>\n",
       "      <td>...</td>\n",
       "      <td>...</td>\n",
       "    </tr>\n",
       "    <tr>\n",
       "      <th>5037</th>\n",
       "      <td>2022-10-19</td>\n",
       "      <td>19132.154425</td>\n",
       "    </tr>\n",
       "    <tr>\n",
       "      <th>5038</th>\n",
       "      <td>2022-10-20</td>\n",
       "      <td>19033.376024</td>\n",
       "    </tr>\n",
       "    <tr>\n",
       "      <th>5039</th>\n",
       "      <td>2022-10-21</td>\n",
       "      <td>19174.876349</td>\n",
       "    </tr>\n",
       "    <tr>\n",
       "      <th>5040</th>\n",
       "      <td>2022-10-22</td>\n",
       "      <td>19207.628508</td>\n",
       "    </tr>\n",
       "    <tr>\n",
       "      <th>5041</th>\n",
       "      <td>2022-10-23</td>\n",
       "      <td>NaN</td>\n",
       "    </tr>\n",
       "  </tbody>\n",
       "</table>\n",
       "<p>5042 rows × 2 columns</p>\n",
       "</div>"
      ],
      "text/plain": [
       "           time      PriceUSD\n",
       "0    2009-01-03           NaN\n",
       "1    2009-01-04           NaN\n",
       "2    2009-01-05           NaN\n",
       "3    2009-01-06           NaN\n",
       "4    2009-01-07           NaN\n",
       "...         ...           ...\n",
       "5037 2022-10-19  19132.154425\n",
       "5038 2022-10-20  19033.376024\n",
       "5039 2022-10-21  19174.876349\n",
       "5040 2022-10-22  19207.628508\n",
       "5041 2022-10-23           NaN\n",
       "\n",
       "[5042 rows x 2 columns]"
      ]
     },
     "execution_count": 2,
     "metadata": {},
     "output_type": "execute_result"
    }
   ],
   "source": [
    "BTC = pd.read_csv(\"csv221022/btc.csv\",\n",
    "                  sep = \",\",\n",
    "                  header = 0,\n",
    "                  usecols = [\"time\",\"PriceUSD\"],\n",
    "                  parse_dates= [\"time\"])\n",
    "BTC"
   ]
  },
  {
   "cell_type": "markdown",
   "metadata": {},
   "source": [
    "## Generar una lista de nombres de los activos, a partir de los archivos csv"
   ]
  },
  {
   "cell_type": "code",
   "execution_count": 2,
   "metadata": {},
   "outputs": [],
   "source": [
    "path = \"csv221022/\"\n",
    "csvs = sorted(glob.glob(path + \"*.csv\"))\n",
    "nombres = [element.replace(\"csv221022/\", \"\") for element in csvs]\n",
    "nombres = [element.replace(\".csv\", \"\") for element in nombres]"
   ]
  },
  {
   "cell_type": "markdown",
   "metadata": {},
   "source": [
    "## Lectura de todos los csv"
   ]
  },
  {
   "cell_type": "markdown",
   "metadata": {},
   "source": [
    "Añadir una linea de codigo al bucle que consiga modificar el nombre del ultimo elemento añadido a la lista a través de corchetes y un replace"
   ]
  },
  {
   "cell_type": "code",
   "execution_count": 4,
   "metadata": {},
   "outputs": [],
   "source": [
    "dataframes_list = []\n",
    "for i in range(len(nombres)):\n",
    "    temp_df = pd.read_csv(filepath_or_buffer = \"csv221022/\"+nombres[i]+\".csv\",\n",
    "                          header = 0,\n",
    "                          sep = \",\",\n",
    "                          parse_dates = [\"time\"])\n",
    "    dataframes_list.append(temp_df)\n",
    "    "
   ]
  },
  {
   "cell_type": "code",
   "execution_count": 5,
   "metadata": {},
   "outputs": [
    {
     "data": {
      "text/plain": [
       "110"
      ]
     },
     "execution_count": 5,
     "metadata": {},
     "output_type": "execute_result"
    }
   ],
   "source": [
    "#Calcula el número de columna que coincida con PriceUSD en el df concreto del loop for anterior\n",
    "len(temp_df.columns==\"PriceUSD\")\n"
   ]
  },
  {
   "cell_type": "markdown",
   "metadata": {},
   "source": [
    "### Comprobar si existe la columna \"PriceUSD\" en todos los CSV"
   ]
  },
  {
   "cell_type": "code",
   "execution_count": 3,
   "metadata": {},
   "outputs": [
    {
     "data": {
      "text/html": [
       "<div>\n",
       "<style scoped>\n",
       "    .dataframe tbody tr th:only-of-type {\n",
       "        vertical-align: middle;\n",
       "    }\n",
       "\n",
       "    .dataframe tbody tr th {\n",
       "        vertical-align: top;\n",
       "    }\n",
       "\n",
       "    .dataframe thead th {\n",
       "        text-align: right;\n",
       "    }\n",
       "</style>\n",
       "<table border=\"1\" class=\"dataframe\">\n",
       "  <thead>\n",
       "    <tr style=\"text-align: right;\">\n",
       "      <th></th>\n",
       "      <th>Existe</th>\n",
       "      <th>Posición</th>\n",
       "      <th>Activo</th>\n",
       "    </tr>\n",
       "  </thead>\n",
       "  <tbody>\n",
       "    <tr>\n",
       "      <th>0</th>\n",
       "      <td>True</td>\n",
       "      <td>110</td>\n",
       "      <td>1inch</td>\n",
       "    </tr>\n",
       "    <tr>\n",
       "      <th>1</th>\n",
       "      <td>True</td>\n",
       "      <td>110</td>\n",
       "      <td>aave</td>\n",
       "    </tr>\n",
       "    <tr>\n",
       "      <th>2</th>\n",
       "      <td>False</td>\n",
       "      <td>0</td>\n",
       "      <td>aca</td>\n",
       "    </tr>\n",
       "    <tr>\n",
       "      <th>3</th>\n",
       "      <td>False</td>\n",
       "      <td>0</td>\n",
       "      <td>ach</td>\n",
       "    </tr>\n",
       "    <tr>\n",
       "      <th>4</th>\n",
       "      <td>True</td>\n",
       "      <td>122</td>\n",
       "      <td>ada</td>\n",
       "    </tr>\n",
       "    <tr>\n",
       "      <th>...</th>\n",
       "      <td>...</td>\n",
       "      <td>...</td>\n",
       "      <td>...</td>\n",
       "    </tr>\n",
       "    <tr>\n",
       "      <th>349</th>\n",
       "      <td>False</td>\n",
       "      <td>0</td>\n",
       "      <td>ygg</td>\n",
       "    </tr>\n",
       "    <tr>\n",
       "      <th>350</th>\n",
       "      <td>True</td>\n",
       "      <td>130</td>\n",
       "      <td>zec</td>\n",
       "    </tr>\n",
       "    <tr>\n",
       "      <th>351</th>\n",
       "      <td>False</td>\n",
       "      <td>0</td>\n",
       "      <td>zen</td>\n",
       "    </tr>\n",
       "    <tr>\n",
       "      <th>352</th>\n",
       "      <td>False</td>\n",
       "      <td>0</td>\n",
       "      <td>zks</td>\n",
       "    </tr>\n",
       "    <tr>\n",
       "      <th>353</th>\n",
       "      <td>True</td>\n",
       "      <td>110</td>\n",
       "      <td>zrx</td>\n",
       "    </tr>\n",
       "  </tbody>\n",
       "</table>\n",
       "<p>354 rows × 3 columns</p>\n",
       "</div>"
      ],
      "text/plain": [
       "    Existe  Posición Activo\n",
       "0     True       110  1inch\n",
       "1     True       110   aave\n",
       "2    False         0    aca\n",
       "3    False         0    ach\n",
       "4     True       122    ada\n",
       "..     ...       ...    ...\n",
       "349  False         0    ygg\n",
       "350   True       130    zec\n",
       "351  False         0    zen\n",
       "352  False         0    zks\n",
       "353   True       110    zrx\n",
       "\n",
       "[354 rows x 3 columns]"
      ]
     },
     "execution_count": 3,
     "metadata": {},
     "output_type": "execute_result"
    }
   ],
   "source": [
    "dataframes_list = []\n",
    "boo = []\n",
    "longli = []\n",
    "archli = []\n",
    "for i in range(len(nombres)):\n",
    "    temp_df = pd.read_csv(filepath_or_buffer = \"csv221022/\"+nombres[i]+\".csv\",\n",
    "                          header = 0,\n",
    "                          sep = \",\")\n",
    "    if \"PriceUSD\" in temp_df.columns:\n",
    "            boo1 = \"True\"\n",
    "            longi = len(temp_df.columns==\"PriceUSD\")\n",
    "            archi = nombres[i]\n",
    "            boo.append(boo1)\n",
    "            longli.append(longi)\n",
    "            archli.append(archi)\n",
    "    else:\n",
    "            boo1 = \"False\"\n",
    "            boo.append(boo1)\n",
    "            longi = 0\n",
    "            longli.append(longi)\n",
    "            archi = nombres[i]\n",
    "            archli.append(archi)\n",
    "            \n",
    "    dataframes_list.append(temp_df)\n",
    "df = pd.DataFrame({\n",
    "    \"Existe\":boo,\n",
    "    \"Posición\":longli,\n",
    "    \"Activo\":archli})\n",
    "df"
   ]
  },
  {
   "cell_type": "markdown",
   "metadata": {},
   "source": [
    "### Dropear columnas del DataFrame que no tengan la columna PriceUSD"
   ]
  },
  {
   "cell_type": "code",
   "execution_count": 7,
   "metadata": {},
   "outputs": [
    {
     "data": {
      "text/plain": [
       "list"
      ]
     },
     "execution_count": 7,
     "metadata": {},
     "output_type": "execute_result"
    }
   ],
   "source": [
    "type(dataframes_list)"
   ]
  },
  {
   "cell_type": "markdown",
   "metadata": {},
   "source": [
    "Hacer un bucle loop que compruebe si existe la columna PriceUSD en el elemento de dataframes_list y guardarla o dropear el caso contrario con pop()[i]"
   ]
  },
  {
   "cell_type": "markdown",
   "metadata": {},
   "source": [
    "### Creación de las listas\n",
    "\n",
    "En este punto se crean dos listas de dataframes diferentes. En una de ellas se encuentran todos los dataframes, incluyendo aquellos activos que no tienen la columna \"PriceUSD\". Esta lista es _dflistcompleto_. \n",
    "\n",
    "En cambio, la lista que solo tiene los activos que incluyen la columna \"PriceUSD\" se denomina _dflistpriceusd_.\n",
    "\n",
    "Finalmente, la creación de una lista vacía _nombresprice_ permite agregar el nombre del activo del bloque _if \"PriceUSD\" in temp..._ a la lista vacía, por lo que coincidirán con la lista _dflistpriceusd_."
   ]
  },
  {
   "cell_type": "code",
   "execution_count": 4,
   "metadata": {},
   "outputs": [],
   "source": [
    "# Este es el chunk válido (modificado cambiando un par de comandos de sitio: el append de ambos)\n",
    "nombresprice = []\n",
    "dflistcompleto = []\n",
    "dflistpriceusd = []\n",
    "for i in range(len(nombres)):\n",
    "    temp_df = pd.read_csv(filepath_or_buffer = \"csv221022/\" + nombres[i] + \".csv\",\n",
    "                          header = 0,\n",
    "                          sep = \",\")\n",
    "    dflistcompleto.append(temp_df)\n",
    "    if \"PriceUSD\" in temp_df.columns:\n",
    "        temp_df_priceusd = pd.read_csv(filepath_or_buffer = \"csv221022/\" + nombres[i] + \".csv\",\n",
    "                          header = 0,\n",
    "                          usecols = [\"time\", \"PriceUSD\"],\n",
    "                          sep = \",\")\n",
    "        temp_df_priceusd.set_index(\"time\")\n",
    "        temp_df_priceusd.drop(columns = \"time\")\n",
    "        dflistpriceusd.append(temp_df_priceusd)\n",
    "        activorow = nombres[i]\n",
    "        nombresprice.append(activorow)\n",
    "    else:\n",
    "        continue"
   ]
  },
  {
   "cell_type": "code",
   "execution_count": 82,
   "metadata": {},
   "outputs": [
    {
     "data": {
      "text/plain": [
       "['1inch',\n",
       " 'aave',\n",
       " 'ada',\n",
       " 'algo',\n",
       " 'alpha',\n",
       " 'ant',\n",
       " 'bal',\n",
       " 'bat',\n",
       " 'bch',\n",
       " 'bnb',\n",
       " 'bnb_eth',\n",
       " 'bsv',\n",
       " 'btc',\n",
       " 'btg',\n",
       " 'busd',\n",
       " 'comp',\n",
       " 'cro',\n",
       " 'crv',\n",
       " 'cvc',\n",
       " 'dai',\n",
       " 'dash',\n",
       " 'dcr',\n",
       " 'dgb',\n",
       " 'doge',\n",
       " 'dot',\n",
       " 'drgn',\n",
       " 'elf',\n",
       " 'eos',\n",
       " 'eos_eth',\n",
       " 'etc',\n",
       " 'eth',\n",
       " 'ftt',\n",
       " 'fun',\n",
       " 'fxc',\n",
       " 'gas',\n",
       " 'gno',\n",
       " 'gnt',\n",
       " 'grin',\n",
       " 'gusd',\n",
       " 'hbtc',\n",
       " 'hedg',\n",
       " 'ht',\n",
       " 'husd',\n",
       " 'icp',\n",
       " 'knc',\n",
       " 'lend',\n",
       " 'leo_eos',\n",
       " 'leo_eth',\n",
       " 'link',\n",
       " 'loom',\n",
       " 'lpt',\n",
       " 'ltc',\n",
       " 'maid',\n",
       " 'mana',\n",
       " 'matic_eth',\n",
       " 'mkr',\n",
       " 'neo',\n",
       " 'nxm',\n",
       " 'omg',\n",
       " 'pax',\n",
       " 'paxg',\n",
       " 'pay',\n",
       " 'perp',\n",
       " 'poly',\n",
       " 'powr',\n",
       " 'ppt',\n",
       " 'qash',\n",
       " 'qnt',\n",
       " 'ren',\n",
       " 'renbtc',\n",
       " 'rep',\n",
       " 'rev_eth',\n",
       " 'sai',\n",
       " 'snt',\n",
       " 'snx',\n",
       " 'srm',\n",
       " 'sushi',\n",
       " 'swrv',\n",
       " 'trx',\n",
       " 'trx_eth',\n",
       " 'tusd',\n",
       " 'uma',\n",
       " 'uni',\n",
       " 'usdc',\n",
       " 'usdk',\n",
       " 'usdt',\n",
       " 'usdt_eth',\n",
       " 'usdt_omni',\n",
       " 'usdt_trx',\n",
       " 'vtc',\n",
       " 'wbtc',\n",
       " 'weth',\n",
       " 'wnxm',\n",
       " 'wtc',\n",
       " 'xaut',\n",
       " 'xem',\n",
       " 'xlm',\n",
       " 'xmr',\n",
       " 'xrp',\n",
       " 'xtz',\n",
       " 'xvg',\n",
       " 'yfi',\n",
       " 'zec',\n",
       " 'zrx']"
      ]
     },
     "execution_count": 82,
     "metadata": {},
     "output_type": "execute_result"
    }
   ],
   "source": [
    "nombresprice"
   ]
  },
  {
   "cell_type": "code",
   "execution_count": 10,
   "metadata": {},
   "outputs": [],
   "source": [
    "# Crear un Dataframe a partir de un array de 2x2\n",
    "array1 = {'tiempo':[\"1996-10-04\",\"1996-10-05\"],\n",
    "          'PriceUSD': [25000,50000]}\n",
    "\n",
    "dataf = pd.DataFrame(data = array1)\n",
    "\n",
    "# Renombrar la columna \"tiempo\" por \"Time\"\n",
    "dataf.rename(index = str, columns = {\"tiempo\": \"Time\"}, inplace = True)\n",
    "\n",
    "# Cambiar el DType de la columna \"Time\"\n",
    "dataf['Time'] = pd.to_datetime(dataf['Time'], errors='coerce')\n",
    "\n",
    "# Cambiar el formato de la fecha de YYY-MM-DD a DD-MM-YYYY (%y/%m/%d)\n",
    "dataf['Time'] = dataf[\"Time\"].dt.strftime('%d/%m/%Y')\n",
    "\n"
   ]
  },
  {
   "cell_type": "code",
   "execution_count": 77,
   "metadata": {},
   "outputs": [
    {
     "name": "stdout",
     "output_type": "stream",
     "text": [
      "[104, 104, 0]\n"
     ]
    }
   ],
   "source": [
    "# Obtener un dataframe con una query de condición booleana (puede ser un index)\n",
    "df2 = df[np.array(df[\"Existe\"] == \"True\", dtype = bool)]\n",
    "\n",
    "# Obtener el mismo Dataframe por otro método (no funciona)\n",
    "df3 = df.loc[df['Existe'] == True] \n",
    "\n",
    "# Longitud de los nuevos dataframes por si coincide con el Dataframe creado: dflistpriceusd\n",
    "print([len(df2),len(dflistpriceusd), len(df3)])"
   ]
  },
  {
   "cell_type": "code",
   "execution_count": null,
   "metadata": {},
   "outputs": [],
   "source": [
    "idx = 0\n",
    "df_merged = pd.DataFrame(data = )\n",
    "for i, row in df_merged.iterrows():\n",
    "    for true_move in range((row['max_move_%']) * (- 1), row['max_move_%']+1):\n",
    "        price_new = df_merged.iloc[i]['price'] * (1 + true_move / 100.00)\n",
    "        df_new.loc[idx] = row.values.tolist() + [true_move, price_new]\n",
    "        idx += 1"
   ]
  },
  {
   "cell_type": "markdown",
   "metadata": {},
   "source": [
    "# POR AQUI: Creando un loop que añada una row en cada iteracción. Queda pendiente descifrar el chunk de ejemplo según el [Link](https://stackoverflow.com/questions/50188852/python-add-rows-into-existing-dataframe-with-loop)\n",
    "\n",
    "\n",
    "Añadido:\n",
    "[Link sobre longitud de rows](https://stackoverflow.com/questions/17468878/pandas-python-how-to-count-the-number-of-records-or-rows-in-a-dataframe)"
   ]
  },
  {
   "attachments": {},
   "cell_type": "markdown",
   "metadata": {},
   "source": [
    "Dividir la tarea en subtareas más simples:\n",
    "* Crear un dataframe que contenga únicamente unas columnas cuyos nombres sean elementos del objeto nombresprice.\n",
    "* Conseguir utilizar la columna de tiempo del objeto temp_df_priceusd como index de las filas.\n",
    "* Encontrar el rango de la columna time del objeto anterior más amplio y utilizarlo como index o directamente establecer una franja de tiempo suficientemente amplia para que contenga todas las observaciones de todos los casos.\n",
    "* Romper el temp_df_priceusd en criptoactivos para seleccionarlos como elementos individuales presentados como columnas, de manera que la dimensión del objeto sea: max_range_tiempo:nombrespriceusd."
   ]
  },
  {
   "cell_type": "code",
   "execution_count": 98,
   "metadata": {},
   "outputs": [
    {
     "ename": "ValueError",
     "evalue": "Shape of passed values is (2, 1), indices imply (2, 2)",
     "output_type": "error",
     "traceback": [
      "\u001b[0;31m---------------------------------------------------------------------------\u001b[0m",
      "\u001b[0;31mValueError\u001b[0m                                Traceback (most recent call last)",
      "\u001b[1;32m/home/filibustero/Documentos/TFM/cryptocurrency-market-efficiency/Cryptocurrency Market Efficiency.ipynb Celda 26\u001b[0m in \u001b[0;36m<cell line: 1>\u001b[0;34m()\u001b[0m\n\u001b[0;32m----> <a href='vscode-notebook-cell:/home/filibustero/Documentos/TFM/cryptocurrency-market-efficiency/Cryptocurrency%20Market%20Efficiency.ipynb#X62sZmlsZQ%3D%3D?line=0'>1</a>\u001b[0m dfindex \u001b[39m=\u001b[39m pd\u001b[39m.\u001b[39;49mDataFrame(data \u001b[39m=\u001b[39;49m [\u001b[39mlen\u001b[39;49m(dflistpriceusd[\u001b[39m0\u001b[39;49m]), nombresprice[\u001b[39m0\u001b[39;49m]],\n\u001b[1;32m      <a href='vscode-notebook-cell:/home/filibustero/Documentos/TFM/cryptocurrency-market-efficiency/Cryptocurrency%20Market%20Efficiency.ipynb#X62sZmlsZQ%3D%3D?line=1'>2</a>\u001b[0m                        columns \u001b[39m=\u001b[39;49m [\u001b[39m\"\u001b[39;49m\u001b[39mIndex\u001b[39;49m\u001b[39m\"\u001b[39;49m, \u001b[39m\"\u001b[39;49m\u001b[39mActivo\u001b[39;49m\u001b[39m\"\u001b[39;49m])\n",
      "File \u001b[0;32m~/.local/lib/python3.10/site-packages/pandas/core/frame.py:737\u001b[0m, in \u001b[0;36mDataFrame.__init__\u001b[0;34m(self, data, index, columns, dtype, copy)\u001b[0m\n\u001b[1;32m    729\u001b[0m         mgr \u001b[39m=\u001b[39m arrays_to_mgr(\n\u001b[1;32m    730\u001b[0m             arrays,\n\u001b[1;32m    731\u001b[0m             columns,\n\u001b[0;32m   (...)\u001b[0m\n\u001b[1;32m    734\u001b[0m             typ\u001b[39m=\u001b[39mmanager,\n\u001b[1;32m    735\u001b[0m         )\n\u001b[1;32m    736\u001b[0m     \u001b[39melse\u001b[39;00m:\n\u001b[0;32m--> 737\u001b[0m         mgr \u001b[39m=\u001b[39m ndarray_to_mgr(\n\u001b[1;32m    738\u001b[0m             data,\n\u001b[1;32m    739\u001b[0m             index,\n\u001b[1;32m    740\u001b[0m             columns,\n\u001b[1;32m    741\u001b[0m             dtype\u001b[39m=\u001b[39;49mdtype,\n\u001b[1;32m    742\u001b[0m             copy\u001b[39m=\u001b[39;49mcopy,\n\u001b[1;32m    743\u001b[0m             typ\u001b[39m=\u001b[39;49mmanager,\n\u001b[1;32m    744\u001b[0m         )\n\u001b[1;32m    745\u001b[0m \u001b[39melse\u001b[39;00m:\n\u001b[1;32m    746\u001b[0m     mgr \u001b[39m=\u001b[39m dict_to_mgr(\n\u001b[1;32m    747\u001b[0m         {},\n\u001b[1;32m    748\u001b[0m         index,\n\u001b[0;32m   (...)\u001b[0m\n\u001b[1;32m    751\u001b[0m         typ\u001b[39m=\u001b[39mmanager,\n\u001b[1;32m    752\u001b[0m     )\n",
      "File \u001b[0;32m~/.local/lib/python3.10/site-packages/pandas/core/internals/construction.py:351\u001b[0m, in \u001b[0;36mndarray_to_mgr\u001b[0;34m(values, index, columns, dtype, copy, typ)\u001b[0m\n\u001b[1;32m    346\u001b[0m \u001b[39m# _prep_ndarray ensures that values.ndim == 2 at this point\u001b[39;00m\n\u001b[1;32m    347\u001b[0m index, columns \u001b[39m=\u001b[39m _get_axes(\n\u001b[1;32m    348\u001b[0m     values\u001b[39m.\u001b[39mshape[\u001b[39m0\u001b[39m], values\u001b[39m.\u001b[39mshape[\u001b[39m1\u001b[39m], index\u001b[39m=\u001b[39mindex, columns\u001b[39m=\u001b[39mcolumns\n\u001b[1;32m    349\u001b[0m )\n\u001b[0;32m--> 351\u001b[0m _check_values_indices_shape_match(values, index, columns)\n\u001b[1;32m    353\u001b[0m \u001b[39mif\u001b[39;00m typ \u001b[39m==\u001b[39m \u001b[39m\"\u001b[39m\u001b[39marray\u001b[39m\u001b[39m\"\u001b[39m:\n\u001b[1;32m    355\u001b[0m     \u001b[39mif\u001b[39;00m \u001b[39missubclass\u001b[39m(values\u001b[39m.\u001b[39mdtype\u001b[39m.\u001b[39mtype, \u001b[39mstr\u001b[39m):\n",
      "File \u001b[0;32m~/.local/lib/python3.10/site-packages/pandas/core/internals/construction.py:422\u001b[0m, in \u001b[0;36m_check_values_indices_shape_match\u001b[0;34m(values, index, columns)\u001b[0m\n\u001b[1;32m    420\u001b[0m passed \u001b[39m=\u001b[39m values\u001b[39m.\u001b[39mshape\n\u001b[1;32m    421\u001b[0m implied \u001b[39m=\u001b[39m (\u001b[39mlen\u001b[39m(index), \u001b[39mlen\u001b[39m(columns))\n\u001b[0;32m--> 422\u001b[0m \u001b[39mraise\u001b[39;00m \u001b[39mValueError\u001b[39;00m(\u001b[39mf\u001b[39m\u001b[39m\"\u001b[39m\u001b[39mShape of passed values is \u001b[39m\u001b[39m{\u001b[39;00mpassed\u001b[39m}\u001b[39;00m\u001b[39m, indices imply \u001b[39m\u001b[39m{\u001b[39;00mimplied\u001b[39m}\u001b[39;00m\u001b[39m\"\u001b[39m)\n",
      "\u001b[0;31mValueError\u001b[0m: Shape of passed values is (2, 1), indices imply (2, 2)"
     ]
    }
   ],
   "source": [
    "dfindex = pd.DataFrame(data = [len(dflistpriceusd[0]), nombresprice[0]],\n",
    "                       columns = [\"Index\", \"Activo\"])"
   ]
  },
  {
   "cell_type": "code",
   "execution_count": null,
   "metadata": {},
   "outputs": [],
   "source": [
    "# this\n",
    "contador = 0\n",
    "dfindex = pd.DataFrame(data = [len(dflistpriceusd[0], nombresprice[0]],\n",
    "                       columns = [\"Index\", \"Activo\"])\n",
    "for i, row in dfindex.iterrows():      \n",
    "    df_new.loc[idx] = row.values.tolist() + [true_move, price_new]\n",
    "    contador += 1"
   ]
  },
  {
   "cell_type": "code",
   "execution_count": 85,
   "metadata": {},
   "outputs": [
    {
     "name": "stdout",
     "output_type": "stream",
     "text": [
      "[670, '1inch']\n",
      "[760, 'aave']\n",
      "[1857, 'ada']\n",
      "[1231, 'algo']\n",
      "[757, 'alpha']\n",
      "[1988, 'ant']\n",
      "[856, 'bal']\n",
      "[1974, 'bat']\n",
      "[1913, 'bch']\n",
      "[1937, 'bnb']\n",
      "[657, 'bnb_eth']\n",
      "[1444, 'bsv']\n",
      "[5042, 'btc']\n",
      "[1826, 'btg']\n",
      "[1145, 'busd']\n",
      "[964, 'comp']\n",
      "[1440, 'cro']\n",
      "[803, 'crv']\n",
      "[1931, 'cvc']\n",
      "[1076, 'dai']\n",
      "[3200, 'dash']\n",
      "[2450, 'dcr']\n",
      "[3209, 'dgb']\n",
      "[3242, 'doge']\n",
      "[881, 'dot']\n",
      "[1789, 'drgn']\n",
      "[1771, 'elf']\n",
      "[1942, 'eos']\n",
      "[348, 'eos_eth']\n",
      "[2287, 'etc']\n",
      "[2643, 'eth']\n",
      "[1282, 'ftt']\n",
      "[1935, 'fun']\n",
      "[755, 'fxc']\n",
      "[2198, 'gas']\n",
      "[2015, 'gno']\n",
      "[2173, 'gnt']\n",
      "[1378, 'grin']\n",
      "[1506, 'gusd']\n",
      "[1049, 'hbtc']\n",
      "[1293, 'hedg']\n",
      "[1727, 'ht']\n",
      "[1317, 'husd']\n",
      "[536, 'icp']\n",
      "[1868, 'knc']\n",
      "[1862, 'lend']\n",
      "[1251, 'leo_eos']\n",
      "[1251, 'leo_eth']\n",
      "[1864, 'link']\n",
      "[1696, 'loom']\n",
      "[1638, 'lpt']\n",
      "[4035, 'ltc']\n",
      "[3107, 'maid']\n",
      "[1896, 'mana']\n",
      "[1282, 'matic_eth']\n",
      "[2401, 'mkr']\n",
      "[2292, 'neo']\n",
      "[1249, 'nxm']\n",
      "[1937, 'omg']\n",
      "[1507, 'pax']\n",
      "[1155, 'paxg']\n",
      "[1956, 'pay']\n",
      "[779, 'perp']\n",
      "[1729, 'poly']\n",
      "[1969, 'powr']\n",
      "[1932, 'ppt']\n",
      "[1840, 'qash']\n",
      "[1662, 'qnt']\n",
      "[1758, 'ren']\n",
      "[894, 'renbtc']\n",
      "[2564, 'rep']\n",
      "[941, 'rev_eth']\n",
      "[1738, 'sai']\n",
      "[1954, 'snt']\n",
      "[1688, 'snx']\n",
      "[815, 'srm']\n",
      "[789, 'sushi']\n",
      "[780, 'swrv']\n",
      "[1842, 'trx']\n",
      "[302, 'trx_eth']\n",
      "[1695, 'tusd']\n",
      "[1019, 'uma']\n",
      "[770, 'uni']\n",
      "[1543, 'usdc']\n",
      "[1257, 'usdk']\n",
      "[3221, 'usdt']\n",
      "[1790, 'usdt_eth']\n",
      "[2939, 'usdt_omni']\n",
      "[1286, 'usdt_trx']\n",
      "[3209, 'vtc']\n",
      "[1430, 'wbtc']\n",
      "[1776, 'weth']\n",
      "[838, 'wnxm']\n",
      "[1924, 'wtc']\n",
      "[1020, 'xaut']\n",
      "[2764, 'xem']\n",
      "[2994, 'xlm']\n",
      "[3111, 'xmr']\n",
      "[3583, 'xrp']\n",
      "[1947, 'xtz']\n",
      "[2937, 'xvg']\n",
      "[829, 'yfi']\n",
      "[2187, 'zec']\n",
      "[1900, 'zrx']\n"
     ]
    }
   ],
   "source": [
    "listnombresprice = []\n",
    "for i in range(len(dflistpriceusd)):\n",
    "    print([len(dflistpriceusd[i]), nombresprice[i]])\n",
    "    dfnombresprice = \n",
    "    \n",
    "df = pd.DataFrame({\n",
    "    \"Existe\": boo,\n",
    "    \"Posición\": longli})"
   ]
  },
  {
   "cell_type": "code",
   "execution_count": 57,
   "metadata": {},
   "outputs": [
    {
     "ename": "KeyError",
     "evalue": "0",
     "output_type": "error",
     "traceback": [
      "\u001b[0;31m---------------------------------------------------------------------------\u001b[0m",
      "\u001b[0;31mKeyError\u001b[0m                                  Traceback (most recent call last)",
      "File \u001b[0;32m~/.local/lib/python3.10/site-packages/pandas/core/indexes/base.py:3621\u001b[0m, in \u001b[0;36mIndex.get_loc\u001b[0;34m(self, key, method, tolerance)\u001b[0m\n\u001b[1;32m   3620\u001b[0m \u001b[39mtry\u001b[39;00m:\n\u001b[0;32m-> 3621\u001b[0m     \u001b[39mreturn\u001b[39;00m \u001b[39mself\u001b[39;49m\u001b[39m.\u001b[39;49m_engine\u001b[39m.\u001b[39;49mget_loc(casted_key)\n\u001b[1;32m   3622\u001b[0m \u001b[39mexcept\u001b[39;00m \u001b[39mKeyError\u001b[39;00m \u001b[39mas\u001b[39;00m err:\n",
      "File \u001b[0;32m~/.local/lib/python3.10/site-packages/pandas/_libs/index.pyx:136\u001b[0m, in \u001b[0;36mpandas._libs.index.IndexEngine.get_loc\u001b[0;34m()\u001b[0m\n",
      "File \u001b[0;32m~/.local/lib/python3.10/site-packages/pandas/_libs/index.pyx:163\u001b[0m, in \u001b[0;36mpandas._libs.index.IndexEngine.get_loc\u001b[0;34m()\u001b[0m\n",
      "File \u001b[0;32mpandas/_libs/hashtable_class_helper.pxi:5198\u001b[0m, in \u001b[0;36mpandas._libs.hashtable.PyObjectHashTable.get_item\u001b[0;34m()\u001b[0m\n",
      "File \u001b[0;32mpandas/_libs/hashtable_class_helper.pxi:5206\u001b[0m, in \u001b[0;36mpandas._libs.hashtable.PyObjectHashTable.get_item\u001b[0;34m()\u001b[0m\n",
      "\u001b[0;31mKeyError\u001b[0m: 0",
      "\nThe above exception was the direct cause of the following exception:\n",
      "\u001b[0;31mKeyError\u001b[0m                                  Traceback (most recent call last)",
      "\u001b[1;32m/home/filibustero/Documentos/TFM/cryptocurrency-market-efficiency/Cryptocurrency Market Efficiency.ipynb Celda 24\u001b[0m in \u001b[0;36m<cell line: 2>\u001b[0;34m()\u001b[0m\n\u001b[1;32m      <a href='vscode-notebook-cell:/home/filibustero/Documentos/TFM/cryptocurrency-market-efficiency/Cryptocurrency%20Market%20Efficiency.ipynb#X42sZmlsZQ%3D%3D?line=0'>1</a>\u001b[0m maslargo \u001b[39m=\u001b[39m []\n\u001b[1;32m      <a href='vscode-notebook-cell:/home/filibustero/Documentos/TFM/cryptocurrency-market-efficiency/Cryptocurrency%20Market%20Efficiency.ipynb#X42sZmlsZQ%3D%3D?line=1'>2</a>\u001b[0m \u001b[39mfor\u001b[39;00m i \u001b[39min\u001b[39;00m \u001b[39mrange\u001b[39m(\u001b[39mlen\u001b[39m(dflistpriceusd)):\n\u001b[0;32m----> <a href='vscode-notebook-cell:/home/filibustero/Documentos/TFM/cryptocurrency-market-efficiency/Cryptocurrency%20Market%20Efficiency.ipynb#X42sZmlsZQ%3D%3D?line=2'>3</a>\u001b[0m     maximo \u001b[39m=\u001b[39m \u001b[39mlen\u001b[39m(dflistpriceusd[i][\u001b[39m0\u001b[39;49m])\n\u001b[1;32m      <a href='vscode-notebook-cell:/home/filibustero/Documentos/TFM/cryptocurrency-market-efficiency/Cryptocurrency%20Market%20Efficiency.ipynb#X42sZmlsZQ%3D%3D?line=3'>4</a>\u001b[0m     maslargo\u001b[39m.\u001b[39mappend(maximo)\n\u001b[1;32m      <a href='vscode-notebook-cell:/home/filibustero/Documentos/TFM/cryptocurrency-market-efficiency/Cryptocurrency%20Market%20Efficiency.ipynb#X42sZmlsZQ%3D%3D?line=4'>5</a>\u001b[0m \u001b[39mprint\u001b[39m([maslargo, \n\u001b[1;32m      <a href='vscode-notebook-cell:/home/filibustero/Documentos/TFM/cryptocurrency-market-efficiency/Cryptocurrency%20Market%20Efficiency.ipynb#X42sZmlsZQ%3D%3D?line=5'>6</a>\u001b[0m        \u001b[39m\"\u001b[39m\u001b[39mValor máximo:\u001b[39m\u001b[39m\"\u001b[39m, \u001b[39mmax\u001b[39m(maslargo), \n\u001b[1;32m      <a href='vscode-notebook-cell:/home/filibustero/Documentos/TFM/cryptocurrency-market-efficiency/Cryptocurrency%20Market%20Efficiency.ipynb#X42sZmlsZQ%3D%3D?line=6'>7</a>\u001b[0m        \u001b[39m\"\u001b[39m\u001b[39mPosición en la lista:\u001b[39m\u001b[39m\"\u001b[39m, maslargo\u001b[39m.\u001b[39mindex(\u001b[39mmax\u001b[39m(maslargo)),\n\u001b[1;32m      <a href='vscode-notebook-cell:/home/filibustero/Documentos/TFM/cryptocurrency-market-efficiency/Cryptocurrency%20Market%20Efficiency.ipynb#X42sZmlsZQ%3D%3D?line=7'>8</a>\u001b[0m        \u001b[39m\"\u001b[39m\u001b[39mNombre del activo:\u001b[39m\u001b[39m\"\u001b[39m, nombres[maslargo\u001b[39m.\u001b[39mindex(\u001b[39mmax\u001b[39m(maslargo))]\n\u001b[1;32m      <a href='vscode-notebook-cell:/home/filibustero/Documentos/TFM/cryptocurrency-market-efficiency/Cryptocurrency%20Market%20Efficiency.ipynb#X42sZmlsZQ%3D%3D?line=8'>9</a>\u001b[0m        ])\n",
      "File \u001b[0;32m~/.local/lib/python3.10/site-packages/pandas/core/frame.py:3505\u001b[0m, in \u001b[0;36mDataFrame.__getitem__\u001b[0;34m(self, key)\u001b[0m\n\u001b[1;32m   3503\u001b[0m \u001b[39mif\u001b[39;00m \u001b[39mself\u001b[39m\u001b[39m.\u001b[39mcolumns\u001b[39m.\u001b[39mnlevels \u001b[39m>\u001b[39m \u001b[39m1\u001b[39m:\n\u001b[1;32m   3504\u001b[0m     \u001b[39mreturn\u001b[39;00m \u001b[39mself\u001b[39m\u001b[39m.\u001b[39m_getitem_multilevel(key)\n\u001b[0;32m-> 3505\u001b[0m indexer \u001b[39m=\u001b[39m \u001b[39mself\u001b[39;49m\u001b[39m.\u001b[39;49mcolumns\u001b[39m.\u001b[39;49mget_loc(key)\n\u001b[1;32m   3506\u001b[0m \u001b[39mif\u001b[39;00m is_integer(indexer):\n\u001b[1;32m   3507\u001b[0m     indexer \u001b[39m=\u001b[39m [indexer]\n",
      "File \u001b[0;32m~/.local/lib/python3.10/site-packages/pandas/core/indexes/base.py:3623\u001b[0m, in \u001b[0;36mIndex.get_loc\u001b[0;34m(self, key, method, tolerance)\u001b[0m\n\u001b[1;32m   3621\u001b[0m     \u001b[39mreturn\u001b[39;00m \u001b[39mself\u001b[39m\u001b[39m.\u001b[39m_engine\u001b[39m.\u001b[39mget_loc(casted_key)\n\u001b[1;32m   3622\u001b[0m \u001b[39mexcept\u001b[39;00m \u001b[39mKeyError\u001b[39;00m \u001b[39mas\u001b[39;00m err:\n\u001b[0;32m-> 3623\u001b[0m     \u001b[39mraise\u001b[39;00m \u001b[39mKeyError\u001b[39;00m(key) \u001b[39mfrom\u001b[39;00m \u001b[39merr\u001b[39;00m\n\u001b[1;32m   3624\u001b[0m \u001b[39mexcept\u001b[39;00m \u001b[39mTypeError\u001b[39;00m:\n\u001b[1;32m   3625\u001b[0m     \u001b[39m# If we have a listlike key, _check_indexing_error will raise\u001b[39;00m\n\u001b[1;32m   3626\u001b[0m     \u001b[39m#  InvalidIndexError. Otherwise we fall through and re-raise\u001b[39;00m\n\u001b[1;32m   3627\u001b[0m     \u001b[39m#  the TypeError.\u001b[39;00m\n\u001b[1;32m   3628\u001b[0m     \u001b[39mself\u001b[39m\u001b[39m.\u001b[39m_check_indexing_error(key)\n",
      "\u001b[0;31mKeyError\u001b[0m: 0"
     ]
    }
   ],
   "source": [
    "maslargo = []\n",
    "for i in range(len(dflistpriceusd)):\n",
    "    maximo = len(dflistpriceusd[i])\n",
    "    maslargo.append(maximo)\n",
    "print([maslargo, \n",
    "       \"Valor máximo:\", max(maslargo), \n",
    "       \"Posición en la lista:\", maslargo.index(max(maslargo)),\n",
    "       \"Nombre del activo:\", nombres[maslargo.index(max(maslargo))]\n",
    "       ])"
   ]
  },
  {
   "cell_type": "code",
   "execution_count": 12,
   "metadata": {},
   "outputs": [
    {
     "ename": "ValueError",
     "evalue": "DataFrame constructor not properly called!",
     "output_type": "error",
     "traceback": [
      "\u001b[0;31m---------------------------------------------------------------------------\u001b[0m",
      "\u001b[0;31mValueError\u001b[0m                                Traceback (most recent call last)",
      "\u001b[1;32m/home/filibustero/Documentos/TFM/cryptocurrency-market-efficiency/Cryptocurrency Market Efficiency.ipynb Celda 24\u001b[0m in \u001b[0;36m<cell line: 2>\u001b[0;34m()\u001b[0m\n\u001b[1;32m      <a href='vscode-notebook-cell:/home/filibustero/Documentos/TFM/cryptocurrency-market-efficiency/Cryptocurrency%20Market%20Efficiency.ipynb#X32sZmlsZQ%3D%3D?line=0'>1</a>\u001b[0m \u001b[39m# Tratar de armar un dataframe válido\u001b[39;00m\n\u001b[1;32m      <a href='vscode-notebook-cell:/home/filibustero/Documentos/TFM/cryptocurrency-market-efficiency/Cryptocurrency%20Market%20Efficiency.ipynb#X32sZmlsZQ%3D%3D?line=1'>2</a>\u001b[0m \u001b[39mfor\u001b[39;00m i \u001b[39min\u001b[39;00m \u001b[39mrange\u001b[39m(\u001b[39mlen\u001b[39m(df2)):\n\u001b[0;32m----> <a href='vscode-notebook-cell:/home/filibustero/Documentos/TFM/cryptocurrency-market-efficiency/Cryptocurrency%20Market%20Efficiency.ipynb#X32sZmlsZQ%3D%3D?line=2'>3</a>\u001b[0m     data \u001b[39m=\u001b[39m pd\u001b[39m.\u001b[39;49mDataFrame(\u001b[39m\"\u001b[39;49m\u001b[39mPoner una concatenacion\u001b[39;49m\u001b[39m\"\u001b[39;49m)\n\u001b[1;32m      <a href='vscode-notebook-cell:/home/filibustero/Documentos/TFM/cryptocurrency-market-efficiency/Cryptocurrency%20Market%20Efficiency.ipynb#X32sZmlsZQ%3D%3D?line=3'>4</a>\u001b[0m     antiguo \u001b[39m=\u001b[39m \u001b[39m\"\u001b[39m\u001b[39mtratar de obtener una funcion que saque el nombre de la columna y lo pegue string\u001b[39m\u001b[39m\"\u001b[39m\n\u001b[1;32m      <a href='vscode-notebook-cell:/home/filibustero/Documentos/TFM/cryptocurrency-market-efficiency/Cryptocurrency%20Market%20Efficiency.ipynb#X32sZmlsZQ%3D%3D?line=4'>5</a>\u001b[0m     nuevo \u001b[39m=\u001b[39m nombres[i]\n",
      "File \u001b[0;32m~/.local/lib/python3.10/site-packages/pandas/core/frame.py:756\u001b[0m, in \u001b[0;36mDataFrame.__init__\u001b[0;34m(self, data, index, columns, dtype, copy)\u001b[0m\n\u001b[1;32m    753\u001b[0m \u001b[39m# For data is scalar\u001b[39;00m\n\u001b[1;32m    754\u001b[0m \u001b[39melse\u001b[39;00m:\n\u001b[1;32m    755\u001b[0m     \u001b[39mif\u001b[39;00m index \u001b[39mis\u001b[39;00m \u001b[39mNone\u001b[39;00m \u001b[39mor\u001b[39;00m columns \u001b[39mis\u001b[39;00m \u001b[39mNone\u001b[39;00m:\n\u001b[0;32m--> 756\u001b[0m         \u001b[39mraise\u001b[39;00m \u001b[39mValueError\u001b[39;00m(\u001b[39m\"\u001b[39m\u001b[39mDataFrame constructor not properly called!\u001b[39m\u001b[39m\"\u001b[39m)\n\u001b[1;32m    758\u001b[0m     \u001b[39m# Argument 1 to \"ensure_index\" has incompatible type \"Collection[Any]\";\u001b[39;00m\n\u001b[1;32m    759\u001b[0m     \u001b[39m# expected \"Union[Union[Union[ExtensionArray, ndarray],\u001b[39;00m\n\u001b[1;32m    760\u001b[0m     \u001b[39m# Index, Series], Sequence[Any]]\"\u001b[39;00m\n\u001b[1;32m    761\u001b[0m     index \u001b[39m=\u001b[39m ensure_index(index)  \u001b[39m# type: ignore[arg-type]\u001b[39;00m\n",
      "\u001b[0;31mValueError\u001b[0m: DataFrame constructor not properly called!"
     ]
    }
   ],
   "source": [
    "# Tratar de armar un dataframe válido\n",
    "for i in range(len(df2)):\n",
    "    data = pd.DataFrame(\"Poner una concatenacion\")\n",
    "    antiguo = \"tratar de obtener una funcion que saque el nombre de la columna y lo pegue string\"\n",
    "    nuevo = nombres[i]\n",
    "data[\"\"] = data.rename(index = str, columns = {\"antiguonombre\": \"nuevo\"}, inplace = True)"
   ]
  },
  {
   "cell_type": "code",
   "execution_count": null,
   "metadata": {},
   "outputs": [],
   "source": [
    "# Poner de row index la columna time\n",
    "df = pd.concat(dflistpriceusd).fillna(0).sort_index().reset_index(drop=True)\n",
    "df.insert(0, 'time', range(1, len(df) + 1))\n",
    "print (df)"
   ]
  },
  {
   "cell_type": "code",
   "execution_count": 9,
   "metadata": {},
   "outputs": [
    {
     "ename": "ValueError",
     "evalue": "Shape of passed values is (354, 1), indices imply (354, 354)",
     "output_type": "error",
     "traceback": [
      "\u001b[0;31m---------------------------------------------------------------------------\u001b[0m",
      "\u001b[0;31mValueError\u001b[0m                                Traceback (most recent call last)",
      "\u001b[1;32m/home/filibustero/Documentos/TFM/cryptocurrency-market-efficiency/Cryptocurrency Market Efficiency.ipynb Celda 32\u001b[0m in \u001b[0;36m<cell line: 6>\u001b[0;34m()\u001b[0m\n\u001b[1;32m      <a href='vscode-notebook-cell:/home/filibustero/Documentos/TFM/cryptocurrency-market-efficiency/Cryptocurrency%20Market%20Efficiency.ipynb#X43sZmlsZQ%3D%3D?line=0'>1</a>\u001b[0m datos \u001b[39m=\u001b[39m [[\u001b[39m\"\u001b[39m\u001b[39mJuan\u001b[39m\u001b[39m\"\u001b[39m, \u001b[39m24\u001b[39m],\n\u001b[1;32m      <a href='vscode-notebook-cell:/home/filibustero/Documentos/TFM/cryptocurrency-market-efficiency/Cryptocurrency%20Market%20Efficiency.ipynb#X43sZmlsZQ%3D%3D?line=1'>2</a>\u001b[0m          [\u001b[39m\"\u001b[39m\u001b[39mAna\u001b[39m\u001b[39m\"\u001b[39m, \u001b[39m30\u001b[39m],\n\u001b[1;32m      <a href='vscode-notebook-cell:/home/filibustero/Documentos/TFM/cryptocurrency-market-efficiency/Cryptocurrency%20Market%20Efficiency.ipynb#X43sZmlsZQ%3D%3D?line=2'>3</a>\u001b[0m          [\u001b[39m\"\u001b[39m\u001b[39mLucía\u001b[39m\u001b[39m\"\u001b[39m, \u001b[39m28\u001b[39m]]\n\u001b[1;32m      <a href='vscode-notebook-cell:/home/filibustero/Documentos/TFM/cryptocurrency-market-efficiency/Cryptocurrency%20Market%20Efficiency.ipynb#X43sZmlsZQ%3D%3D?line=4'>5</a>\u001b[0m \u001b[39m# Crea un dataframe de pandas a partir de la lista\u001b[39;00m\n\u001b[0;32m----> <a href='vscode-notebook-cell:/home/filibustero/Documentos/TFM/cryptocurrency-market-efficiency/Cryptocurrency%20Market%20Efficiency.ipynb#X43sZmlsZQ%3D%3D?line=5'>6</a>\u001b[0m finaldataframenombres \u001b[39m=\u001b[39m pd\u001b[39m.\u001b[39;49mDataFrame(nombres, columns \u001b[39m=\u001b[39;49m nombres)\n\u001b[1;32m      <a href='vscode-notebook-cell:/home/filibustero/Documentos/TFM/cryptocurrency-market-efficiency/Cryptocurrency%20Market%20Efficiency.ipynb#X43sZmlsZQ%3D%3D?line=7'>8</a>\u001b[0m \u001b[39m# Muestra la tabla\u001b[39;00m\n\u001b[1;32m      <a href='vscode-notebook-cell:/home/filibustero/Documentos/TFM/cryptocurrency-market-efficiency/Cryptocurrency%20Market%20Efficiency.ipynb#X43sZmlsZQ%3D%3D?line=8'>9</a>\u001b[0m \u001b[39mprint\u001b[39m(finaldataframenombres)\n",
      "File \u001b[0;32m~/.local/lib/python3.10/site-packages/pandas/core/frame.py:737\u001b[0m, in \u001b[0;36mDataFrame.__init__\u001b[0;34m(self, data, index, columns, dtype, copy)\u001b[0m\n\u001b[1;32m    729\u001b[0m         mgr \u001b[39m=\u001b[39m arrays_to_mgr(\n\u001b[1;32m    730\u001b[0m             arrays,\n\u001b[1;32m    731\u001b[0m             columns,\n\u001b[0;32m   (...)\u001b[0m\n\u001b[1;32m    734\u001b[0m             typ\u001b[39m=\u001b[39mmanager,\n\u001b[1;32m    735\u001b[0m         )\n\u001b[1;32m    736\u001b[0m     \u001b[39melse\u001b[39;00m:\n\u001b[0;32m--> 737\u001b[0m         mgr \u001b[39m=\u001b[39m ndarray_to_mgr(\n\u001b[1;32m    738\u001b[0m             data,\n\u001b[1;32m    739\u001b[0m             index,\n\u001b[1;32m    740\u001b[0m             columns,\n\u001b[1;32m    741\u001b[0m             dtype\u001b[39m=\u001b[39;49mdtype,\n\u001b[1;32m    742\u001b[0m             copy\u001b[39m=\u001b[39;49mcopy,\n\u001b[1;32m    743\u001b[0m             typ\u001b[39m=\u001b[39;49mmanager,\n\u001b[1;32m    744\u001b[0m         )\n\u001b[1;32m    745\u001b[0m \u001b[39melse\u001b[39;00m:\n\u001b[1;32m    746\u001b[0m     mgr \u001b[39m=\u001b[39m dict_to_mgr(\n\u001b[1;32m    747\u001b[0m         {},\n\u001b[1;32m    748\u001b[0m         index,\n\u001b[0;32m   (...)\u001b[0m\n\u001b[1;32m    751\u001b[0m         typ\u001b[39m=\u001b[39mmanager,\n\u001b[1;32m    752\u001b[0m     )\n",
      "File \u001b[0;32m~/.local/lib/python3.10/site-packages/pandas/core/internals/construction.py:351\u001b[0m, in \u001b[0;36mndarray_to_mgr\u001b[0;34m(values, index, columns, dtype, copy, typ)\u001b[0m\n\u001b[1;32m    346\u001b[0m \u001b[39m# _prep_ndarray ensures that values.ndim == 2 at this point\u001b[39;00m\n\u001b[1;32m    347\u001b[0m index, columns \u001b[39m=\u001b[39m _get_axes(\n\u001b[1;32m    348\u001b[0m     values\u001b[39m.\u001b[39mshape[\u001b[39m0\u001b[39m], values\u001b[39m.\u001b[39mshape[\u001b[39m1\u001b[39m], index\u001b[39m=\u001b[39mindex, columns\u001b[39m=\u001b[39mcolumns\n\u001b[1;32m    349\u001b[0m )\n\u001b[0;32m--> 351\u001b[0m _check_values_indices_shape_match(values, index, columns)\n\u001b[1;32m    353\u001b[0m \u001b[39mif\u001b[39;00m typ \u001b[39m==\u001b[39m \u001b[39m\"\u001b[39m\u001b[39marray\u001b[39m\u001b[39m\"\u001b[39m:\n\u001b[1;32m    355\u001b[0m     \u001b[39mif\u001b[39;00m \u001b[39missubclass\u001b[39m(values\u001b[39m.\u001b[39mdtype\u001b[39m.\u001b[39mtype, \u001b[39mstr\u001b[39m):\n",
      "File \u001b[0;32m~/.local/lib/python3.10/site-packages/pandas/core/internals/construction.py:422\u001b[0m, in \u001b[0;36m_check_values_indices_shape_match\u001b[0;34m(values, index, columns)\u001b[0m\n\u001b[1;32m    420\u001b[0m passed \u001b[39m=\u001b[39m values\u001b[39m.\u001b[39mshape\n\u001b[1;32m    421\u001b[0m implied \u001b[39m=\u001b[39m (\u001b[39mlen\u001b[39m(index), \u001b[39mlen\u001b[39m(columns))\n\u001b[0;32m--> 422\u001b[0m \u001b[39mraise\u001b[39;00m \u001b[39mValueError\u001b[39;00m(\u001b[39mf\u001b[39m\u001b[39m\"\u001b[39m\u001b[39mShape of passed values is \u001b[39m\u001b[39m{\u001b[39;00mpassed\u001b[39m}\u001b[39;00m\u001b[39m, indices imply \u001b[39m\u001b[39m{\u001b[39;00mimplied\u001b[39m}\u001b[39;00m\u001b[39m\"\u001b[39m)\n",
      "\u001b[0;31mValueError\u001b[0m: Shape of passed values is (354, 1), indices imply (354, 354)"
     ]
    }
   ],
   "source": [
    "# Crea un dataframe de pandas a partir de la lista\n",
    "finaldataframenombres = pd.DataFrame(nombres, columns = nombres)\n",
    "\n",
    "# Muestra la tabla\n",
    "print(finaldataframenombres)"
   ]
  }
 ],
 "metadata": {
  "kernelspec": {
   "display_name": "Python 3.10.4 64-bit",
   "language": "python",
   "name": "python3"
  },
  "language_info": {
   "codemirror_mode": {
    "name": "ipython",
    "version": 3
   },
   "file_extension": ".py",
   "mimetype": "text/x-python",
   "name": "python",
   "nbconvert_exporter": "python",
   "pygments_lexer": "ipython3",
   "version": "3.10.6"
  },
  "orig_nbformat": 4,
  "vscode": {
   "interpreter": {
    "hash": "916dbcbb3f70747c44a77c7bcd40155683ae19c65e1c03b4aa3499c5328201f1"
   }
  }
 },
 "nbformat": 4,
 "nbformat_minor": 2
}
