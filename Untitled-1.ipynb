{
 "cells": [
  {
   "attachments": {},
   "cell_type": "markdown",
   "metadata": {},
   "source": [
    "# Crear un Data Frame y añadir filas a través de un bucle [Link](https://stackoverflow.com/questions/50188852/python-add-rows-into-existing-dataframe-with-loop)\n"
   ]
  },
  {
   "cell_type": "code",
   "execution_count": 3,
   "metadata": {},
   "outputs": [],
   "source": [
    "import pandas as pd"
   ]
  },
  {
   "attachments": {},
   "cell_type": "markdown",
   "metadata": {},
   "source": [
    "Crear un dataframe de 3 columnas con los datos imputados en data"
   ]
  },
  {
   "cell_type": "code",
   "execution_count": 4,
   "metadata": {},
   "outputs": [
    {
     "name": "stdout",
     "output_type": "stream",
     "text": [
      "   product  price  max_move_%\n",
      "0        1    100          10\n"
     ]
    }
   ],
   "source": [
    "df_merged = pd.DataFrame(data=[[1, 100, 10]], columns=['product', 'price', 'max_move_%'])\n",
    "print(df_merged)"
   ]
  },
  {
   "attachments": {},
   "cell_type": "markdown",
   "metadata": {},
   "source": [
    "Crea una lista de caracteres y luego crea un dataframe nuevo con esa lista"
   ]
  },
  {
   "cell_type": "code",
   "execution_count": 5,
   "metadata": {},
   "outputs": [],
   "source": [
    "new_columns = ['product', 'price', 'max_move_%', 'true_move', 'price_new']\n",
    "df_new = pd.DataFrame(columns=new_columns)"
   ]
  },
  {
   "attachments": {},
   "cell_type": "markdown",
   "metadata": {},
   "source": [
    "_idx_ es un contador que no se utiliza como medida para acabar el bucle. En cambio, utiliza el objeto _idx_ con el objeto _df_new.loc_ para introducir filas nuevas en un elemento concreto del mismo (entre corchetes). \n",
    "\n",
    "En más profundidad, _row.values.tolist()_ \n"
   ]
  },
  {
   "cell_type": "code",
   "execution_count": 7,
   "metadata": {},
   "outputs": [
    {
     "name": "stdout",
     "output_type": "stream",
     "text": [
      "    product  price  max_move_%  true_move  price_new\n",
      "0       1.0  100.0        10.0      -10.0       90.0\n",
      "1       1.0  100.0        10.0       -9.0       91.0\n",
      "2       1.0  100.0        10.0       -8.0       92.0\n",
      "3       1.0  100.0        10.0       -7.0       93.0\n",
      "4       1.0  100.0        10.0       -6.0       94.0\n",
      "5       1.0  100.0        10.0       -5.0       95.0\n",
      "6       1.0  100.0        10.0       -4.0       96.0\n",
      "7       1.0  100.0        10.0       -3.0       97.0\n",
      "8       1.0  100.0        10.0       -2.0       98.0\n",
      "9       1.0  100.0        10.0       -1.0       99.0\n",
      "10      1.0  100.0        10.0        0.0      100.0\n",
      "11      1.0  100.0        10.0        1.0      101.0\n",
      "12      1.0  100.0        10.0        2.0      102.0\n",
      "13      1.0  100.0        10.0        3.0      103.0\n",
      "14      1.0  100.0        10.0        4.0      104.0\n",
      "15      1.0  100.0        10.0        5.0      105.0\n",
      "16      1.0  100.0        10.0        6.0      106.0\n",
      "17      1.0  100.0        10.0        7.0      107.0\n",
      "18      1.0  100.0        10.0        8.0      108.0\n",
      "19      1.0  100.0        10.0        9.0      109.0\n",
      "20      1.0  100.0        10.0       10.0      110.0\n"
     ]
    }
   ],
   "source": [
    "idx = 0\n",
    "for index, row in df_merged.iterrows():\n",
    "    for true_move in range((row['max_move_%']) * (- 1), row['max_move_%']+1):\n",
    "        price_new = df_merged.iloc[i]['price'] * (1 + true_move / 100.00)\n",
    "        df_new.loc[idx] = row.values.tolist() + [true_move, price_new]\n",
    "        idx += 1\n",
    "\n",
    "print(df_new)"
   ]
  }
 ],
 "metadata": {
  "kernelspec": {
   "display_name": "Python 3",
   "language": "python",
   "name": "python3"
  },
  "language_info": {
   "codemirror_mode": {
    "name": "ipython",
    "version": 3
   },
   "file_extension": ".py",
   "mimetype": "text/x-python",
   "name": "python",
   "nbconvert_exporter": "python",
   "pygments_lexer": "ipython3",
   "version": "3.10.6 (main, Nov 14 2022, 16:10:14) [GCC 11.3.0]"
  },
  "orig_nbformat": 4,
  "vscode": {
   "interpreter": {
    "hash": "916dbcbb3f70747c44a77c7bcd40155683ae19c65e1c03b4aa3499c5328201f1"
   }
  }
 },
 "nbformat": 4,
 "nbformat_minor": 2
}
