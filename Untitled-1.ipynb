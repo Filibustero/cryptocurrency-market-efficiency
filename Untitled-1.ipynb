{
 "cells": [
  {
   "attachments": {},
   "cell_type": "markdown",
   "metadata": {},
   "source": [
    "# Crear un Data Frame y añadir filas a través de un bucle [Link](https://stackoverflow.com/questions/50188852/python-add-rows-into-existing-dataframe-with-loop)\n"
   ]
  },
  {
   "cell_type": "code",
   "execution_count": 1,
   "metadata": {},
   "outputs": [],
   "source": [
    "import pandas as pd\n",
    "import numpy as np\n",
    "import glob"
   ]
  },
  {
   "attachments": {},
   "cell_type": "markdown",
   "metadata": {},
   "source": [
    "Crear un dataframe de 3 columnas con los datos imputados en data"
   ]
  },
  {
   "cell_type": "code",
   "execution_count": 2,
   "metadata": {},
   "outputs": [
    {
     "name": "stdout",
     "output_type": "stream",
     "text": [
      "   product  price  max_move_%\n",
      "0        1    100          10\n"
     ]
    }
   ],
   "source": [
    "df_merged = pd.DataFrame(data=[[1, 100, 10]], columns=['product', 'price', 'max_move_%'])\n",
    "print(df_merged)"
   ]
  },
  {
   "attachments": {},
   "cell_type": "markdown",
   "metadata": {},
   "source": [
    "Crea una lista de caracteres y luego crea un dataframe nuevo con esa lista"
   ]
  },
  {
   "cell_type": "code",
   "execution_count": 3,
   "metadata": {},
   "outputs": [],
   "source": [
    "new_columns = ['product', 'price', 'max_move_%', 'true_move', 'price_new']\n",
    "df_new = pd.DataFrame(columns=new_columns)"
   ]
  },
  {
   "attachments": {},
   "cell_type": "markdown",
   "metadata": {},
   "source": [
    "_idx_ es un contador que no se utiliza como medida para acabar el bucle. En cambio, utiliza el objeto _idx_ con el objeto _df_new.loc_ para introducir filas nuevas en un elemento concreto del mismo (entre corchetes). \n",
    "\n",
    "En más profundidad, _row.values.tolist()_ \n"
   ]
  },
  {
   "cell_type": "code",
   "execution_count": 4,
   "metadata": {},
   "outputs": [
    {
     "name": "stdout",
     "output_type": "stream",
     "text": [
      "    product  price  max_move_%  true_move  price_new\n",
      "0       1.0  100.0        10.0      -10.0       90.0\n",
      "1       1.0  100.0        10.0       -9.0       91.0\n",
      "2       1.0  100.0        10.0       -8.0       92.0\n",
      "3       1.0  100.0        10.0       -7.0       93.0\n",
      "4       1.0  100.0        10.0       -6.0       94.0\n",
      "5       1.0  100.0        10.0       -5.0       95.0\n",
      "6       1.0  100.0        10.0       -4.0       96.0\n",
      "7       1.0  100.0        10.0       -3.0       97.0\n",
      "8       1.0  100.0        10.0       -2.0       98.0\n",
      "9       1.0  100.0        10.0       -1.0       99.0\n",
      "10      1.0  100.0        10.0        0.0      100.0\n",
      "11      1.0  100.0        10.0        1.0      101.0\n",
      "12      1.0  100.0        10.0        2.0      102.0\n",
      "13      1.0  100.0        10.0        3.0      103.0\n",
      "14      1.0  100.0        10.0        4.0      104.0\n",
      "15      1.0  100.0        10.0        5.0      105.0\n",
      "16      1.0  100.0        10.0        6.0      106.0\n",
      "17      1.0  100.0        10.0        7.0      107.0\n",
      "18      1.0  100.0        10.0        8.0      108.0\n",
      "19      1.0  100.0        10.0        9.0      109.0\n",
      "20      1.0  100.0        10.0       10.0      110.0\n"
     ]
    }
   ],
   "source": [
    "idx = 0\n",
    "for i, row in df_merged.iterrows():\n",
    "    for true_move in range((row['max_move_%']) * (- 1), row['max_move_%']+1):\n",
    "        price_new = df_merged.iloc[i]['price'] * (1 + true_move / 100.00)\n",
    "        df_new.loc[idx] = row.values.tolist() + [true_move, price_new]\n",
    "        idx += 1\n",
    "\n",
    "print(df_new)"
   ]
  },
  {
   "cell_type": "code",
   "execution_count": 5,
   "metadata": {},
   "outputs": [],
   "source": [
    "path = \"csv221022/\"\n",
    "csvs = sorted(glob.glob(path + \"*.csv\"))\n",
    "nombres = [element.replace(\"csv221022/\", \"\") for element in csvs]\n",
    "nombres = [element.replace(\".csv\", \"\") for element in nombres]"
   ]
  },
  {
   "cell_type": "code",
   "execution_count": 6,
   "metadata": {},
   "outputs": [],
   "source": [
    "dataframes_list = []\n",
    "for i in range(len(nombres)):\n",
    "    temp_df = pd.read_csv(filepath_or_buffer = \"csv221022/\"+nombres[i]+\".csv\",\n",
    "                          header = 0,\n",
    "                          sep = \",\",\n",
    "                          parse_dates = [\"time\"])\n",
    "    dataframes_list.append(temp_df)"
   ]
  },
  {
   "cell_type": "code",
   "execution_count": 10,
   "metadata": {},
   "outputs": [
    {
     "data": {
      "text/html": [
       "<div>\n",
       "<style scoped>\n",
       "    .dataframe tbody tr th:only-of-type {\n",
       "        vertical-align: middle;\n",
       "    }\n",
       "\n",
       "    .dataframe tbody tr th {\n",
       "        vertical-align: top;\n",
       "    }\n",
       "\n",
       "    .dataframe thead th {\n",
       "        text-align: right;\n",
       "    }\n",
       "</style>\n",
       "<table border=\"1\" class=\"dataframe\">\n",
       "  <thead>\n",
       "    <tr style=\"text-align: right;\">\n",
       "      <th></th>\n",
       "      <th>Existe</th>\n",
       "      <th>Posición</th>\n",
       "      <th>Activo</th>\n",
       "    </tr>\n",
       "  </thead>\n",
       "  <tbody>\n",
       "    <tr>\n",
       "      <th>0</th>\n",
       "      <td>True</td>\n",
       "      <td>110</td>\n",
       "      <td>1inch</td>\n",
       "    </tr>\n",
       "    <tr>\n",
       "      <th>1</th>\n",
       "      <td>True</td>\n",
       "      <td>110</td>\n",
       "      <td>aave</td>\n",
       "    </tr>\n",
       "    <tr>\n",
       "      <th>2</th>\n",
       "      <td>False</td>\n",
       "      <td>0</td>\n",
       "      <td>aca</td>\n",
       "    </tr>\n",
       "    <tr>\n",
       "      <th>3</th>\n",
       "      <td>False</td>\n",
       "      <td>0</td>\n",
       "      <td>ach</td>\n",
       "    </tr>\n",
       "    <tr>\n",
       "      <th>4</th>\n",
       "      <td>True</td>\n",
       "      <td>122</td>\n",
       "      <td>ada</td>\n",
       "    </tr>\n",
       "    <tr>\n",
       "      <th>...</th>\n",
       "      <td>...</td>\n",
       "      <td>...</td>\n",
       "      <td>...</td>\n",
       "    </tr>\n",
       "    <tr>\n",
       "      <th>349</th>\n",
       "      <td>False</td>\n",
       "      <td>0</td>\n",
       "      <td>ygg</td>\n",
       "    </tr>\n",
       "    <tr>\n",
       "      <th>350</th>\n",
       "      <td>True</td>\n",
       "      <td>130</td>\n",
       "      <td>zec</td>\n",
       "    </tr>\n",
       "    <tr>\n",
       "      <th>351</th>\n",
       "      <td>False</td>\n",
       "      <td>0</td>\n",
       "      <td>zen</td>\n",
       "    </tr>\n",
       "    <tr>\n",
       "      <th>352</th>\n",
       "      <td>False</td>\n",
       "      <td>0</td>\n",
       "      <td>zks</td>\n",
       "    </tr>\n",
       "    <tr>\n",
       "      <th>353</th>\n",
       "      <td>True</td>\n",
       "      <td>110</td>\n",
       "      <td>zrx</td>\n",
       "    </tr>\n",
       "  </tbody>\n",
       "</table>\n",
       "<p>354 rows × 3 columns</p>\n",
       "</div>"
      ],
      "text/plain": [
       "    Existe  Posición Activo\n",
       "0     True       110  1inch\n",
       "1     True       110   aave\n",
       "2    False         0    aca\n",
       "3    False         0    ach\n",
       "4     True       122    ada\n",
       "..     ...       ...    ...\n",
       "349  False         0    ygg\n",
       "350   True       130    zec\n",
       "351  False         0    zen\n",
       "352  False         0    zks\n",
       "353   True       110    zrx\n",
       "\n",
       "[354 rows x 3 columns]"
      ]
     },
     "execution_count": 10,
     "metadata": {},
     "output_type": "execute_result"
    }
   ],
   "source": [
    "dataframes_list = []\n",
    "boo = []\n",
    "longli = []\n",
    "archli = []\n",
    "for i in range(len(nombres)):\n",
    "    temp_df = pd.read_csv(filepath_or_buffer = \"csv221022/\"+nombres[i]+\".csv\",\n",
    "                          header = 0,\n",
    "                          sep = \",\")\n",
    "    if \"PriceUSD\" in temp_df.columns:\n",
    "            boo1 = \"True\"\n",
    "            longi = len(temp_df.columns==\"PriceUSD\")\n",
    "            archi = nombres[i]\n",
    "            boo.append(boo1)\n",
    "            longli.append(longi)\n",
    "            archli.append(archi)\n",
    "    else:\n",
    "            boo1 = \"False\"\n",
    "            boo.append(boo1)\n",
    "            longi = 0\n",
    "            longli.append(longi)\n",
    "            archi = nombres[i]\n",
    "            archli.append(archi)\n",
    "            \n",
    "    dataframes_list.append(temp_df)\n",
    "df = pd.DataFrame({\n",
    "    \"Existe\":boo,\n",
    "    \"Posición\":longli,\n",
    "    \"Activo\":archli})\n",
    "df"
   ]
  },
  {
   "attachments": {},
   "cell_type": "markdown",
   "metadata": {},
   "source": [
    "Este fragmento de código crea dos listas, dflistcompleto y dflistpriceusd, y utiliza un bucle for para iterar a través de una lista de nombres. Dentro del bucle, se lee un archivo CSV utilizando la función read_csv de pandas, y se almacena el resultado en un dataframe temporal llamado temp_df.\n",
    "\n",
    "Luego, se comprueba si la columna \"PriceUSD\" está presente en el dataframe temporal con la instrucción if \"PriceUSD\" in temp_df.columns:. Si está presente, se lee de nuevo el archivo CSV, pero esta vez sólo se incluyen las columnas \"time\" y \"PriceUSD\" utilizando el argumento usecols. El resultado se almacena en otro dataframe temporal llamado temp_df_priceusd, y se renombra la columna \"PriceUSD\" con el nombre que se encuentra en la lista de nombres. Finalmente, se añade el dataframe temporal a la lista dflistpriceusd. Si la columna \"PriceUSD\" no está presente en el dataframe temporal, se salta el resto del bucle con la instrucción continue.\n",
    "\n",
    "Por último, se añade el dataframe temporal original a la lista dflistcompleto. Al finalizar el bucle, ambas listas contendrán dataframes leídos de archivos CSV con nombres específicos."
   ]
  },
  {
   "cell_type": "code",
   "execution_count": 29,
   "metadata": {},
   "outputs": [],
   "source": [
    "dflistcompleto = []\n",
    "dflistpriceusd = []\n",
    "for i in range(len(nombres)):\n",
    "    temp_df = pd.read_csv(filepath_or_buffer = \"csv221022/\" + nombres[i] + \".csv\",\n",
    "                          header = 0,\n",
    "                          sep = \",\")\n",
    "    if \"PriceUSD\" in temp_df.columns:\n",
    "        temp_df_priceusd = pd.read_csv(filepath_or_buffer = \"csv221022/\" + nombres[i] + \".csv\",\n",
    "                          header = 0,\n",
    "                          usecols = [\"time\", \"PriceUSD\"],\n",
    "                          sep = \",\")\n",
    "        temp_df_priceusd.rename(columns={'PriceUSD': nombres[i]}, inplace=True)\n",
    "        dflistpriceusd.append(temp_df_priceusd)\n",
    "        #temp_df_priceusd.set_index(\"time\")\n",
    "        #temp_df_priceusd.drop(columns = \"time\")\n",
    "    else:\n",
    "        continue\n",
    "    dflistcompleto.append(temp_df)\n",
    "    \n"
   ]
  },
  {
   "cell_type": "code",
   "execution_count": 31,
   "metadata": {},
   "outputs": [],
   "source": [
    "df_merged = pd.concat(dflistpriceusd, sort=False)"
   ]
  },
  {
   "cell_type": "code",
   "execution_count": 35,
   "metadata": {},
   "outputs": [
    {
     "name": "stdout",
     "output_type": "stream",
     "text": [
      "time     181389\n",
      "1inch       666\n",
      "aave        743\n",
      "ada        1787\n",
      "algo       1219\n",
      "          ...  \n",
      "xtz        1576\n",
      "xvg        1849\n",
      "yfi         820\n",
      "zec        2185\n",
      "zrx        1899\n",
      "Length: 105, dtype: int64\n"
     ]
    }
   ],
   "source": [
    "column_lengths = df_merged.count()\n",
    "print(column_lengths)"
   ]
  },
  {
   "cell_type": "code",
   "execution_count": 9,
   "metadata": {},
   "outputs": [
    {
     "ename": "NameError",
     "evalue": "name 'nombresprice' is not defined",
     "output_type": "error",
     "traceback": [
      "\u001b[0;31m---------------------------------------------------------------------------\u001b[0m",
      "\u001b[0;31mNameError\u001b[0m                                 Traceback (most recent call last)",
      "\u001b[1;32m/home/filibustero/Documentos/TFM/cryptocurrency-market-efficiency/Untitled-1.ipynb Celda 13\u001b[0m in \u001b[0;36m<cell line: 2>\u001b[0;34m()\u001b[0m\n\u001b[1;32m      <a href='vscode-notebook-cell:/home/filibustero/Documentos/TFM/cryptocurrency-market-efficiency/Untitled-1.ipynb#X15sZmlsZQ%3D%3D?line=0'>1</a>\u001b[0m listnombresprice \u001b[39m=\u001b[39m []\n\u001b[1;32m      <a href='vscode-notebook-cell:/home/filibustero/Documentos/TFM/cryptocurrency-market-efficiency/Untitled-1.ipynb#X15sZmlsZQ%3D%3D?line=1'>2</a>\u001b[0m \u001b[39mfor\u001b[39;00m i \u001b[39min\u001b[39;00m \u001b[39mrange\u001b[39m(\u001b[39mlen\u001b[39m(dflistpriceusd)):\n\u001b[0;32m----> <a href='vscode-notebook-cell:/home/filibustero/Documentos/TFM/cryptocurrency-market-efficiency/Untitled-1.ipynb#X15sZmlsZQ%3D%3D?line=2'>3</a>\u001b[0m     \u001b[39mprint\u001b[39m([\u001b[39mlen\u001b[39m(dflistpriceusd[i]), nombresprice[i]])\n\u001b[1;32m      <a href='vscode-notebook-cell:/home/filibustero/Documentos/TFM/cryptocurrency-market-efficiency/Untitled-1.ipynb#X15sZmlsZQ%3D%3D?line=5'>6</a>\u001b[0m \u001b[39m# Dataframe que marca si existe en la lista y su posición en la lista original    \u001b[39;00m\n\u001b[1;32m      <a href='vscode-notebook-cell:/home/filibustero/Documentos/TFM/cryptocurrency-market-efficiency/Untitled-1.ipynb#X15sZmlsZQ%3D%3D?line=6'>7</a>\u001b[0m df \u001b[39m=\u001b[39m pd\u001b[39m.\u001b[39mDataFrame({\n\u001b[1;32m      <a href='vscode-notebook-cell:/home/filibustero/Documentos/TFM/cryptocurrency-market-efficiency/Untitled-1.ipynb#X15sZmlsZQ%3D%3D?line=7'>8</a>\u001b[0m     \u001b[39m\"\u001b[39m\u001b[39mExiste\u001b[39m\u001b[39m\"\u001b[39m: boo,\n\u001b[1;32m      <a href='vscode-notebook-cell:/home/filibustero/Documentos/TFM/cryptocurrency-market-efficiency/Untitled-1.ipynb#X15sZmlsZQ%3D%3D?line=8'>9</a>\u001b[0m     \u001b[39m\"\u001b[39m\u001b[39mPosición\u001b[39m\u001b[39m\"\u001b[39m: longli})\n",
      "\u001b[0;31mNameError\u001b[0m: name 'nombresprice' is not defined"
     ]
    }
   ],
   "source": [
    "listnombresprice = []\n",
    "for i in range(len(dflistpriceusd)):\n",
    "    print([len(dflistpriceusd[i]), nombresprice[i]])\n",
    "    \n",
    "   \n",
    "# Dataframe que marca si existe en la lista y su posición en la lista original    \n",
    "df = pd.DataFrame({\n",
    "    \"Existe\": boo,\n",
    "    \"Posición\": longli})"
   ]
  }
 ],
 "metadata": {
  "kernelspec": {
   "display_name": "Python 3",
   "language": "python",
   "name": "python3"
  },
  "language_info": {
   "codemirror_mode": {
    "name": "ipython",
    "version": 3
   },
   "file_extension": ".py",
   "mimetype": "text/x-python",
   "name": "python",
   "nbconvert_exporter": "python",
   "pygments_lexer": "ipython3",
   "version": "3.10.6"
  },
  "orig_nbformat": 4,
  "vscode": {
   "interpreter": {
    "hash": "916dbcbb3f70747c44a77c7bcd40155683ae19c65e1c03b4aa3499c5328201f1"
   }
  }
 },
 "nbformat": 4,
 "nbformat_minor": 2
}
